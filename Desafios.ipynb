{
 "cells": [
  {
   "cell_type": "markdown",
   "metadata": {},
   "source": [
    "***\n",
    "\n",
    "# ANÁLISE DE DADOS DA EDUCAÇÃO - ENEM\n",
    "\n",
    "***"
   ]
  },
  {
   "cell_type": "raw",
   "metadata": {},
   "source": [
    "           As análises contidas neste notebook fazem parte do projeto desenvolvido na Imersão Dados\n",
    "       promovida pela Alura.\n",
    "           O dataset são dados reais, disponíveis no site do INEP, contendo informações das provas\n",
    "       do ENEM realizadas no estado de São Paulo no ano de 2019. \n",
    "           O foco da análise (escolha pessoal) será a relação das notas obtidas e renda declarada no\n",
    "       questionário socioeconomico, detalhando também, em alguns tópicos, se existe influência de gênero\n",
    "       nas notas dos participantes."
   ]
  },
  {
   "cell_type": "markdown",
   "metadata": {},
   "source": [
    "**LÓGICA DE ANÁLISE**\n",
    "\n",
    "**1. Importação de libs e dataset**\n",
    "\n",
    "**2. Exploração do dataset:**\n",
    "    - Tamanho do dataset\n",
    "    - Valores faltantes\n",
    "    - Colunas\n",
    "    - Tipo de dados\n",
    "    - Seleção das colunas importantes para as análises\n",
    "    - etc.\n",
    "    \n",
    "**3. Análise da qualidade dos dados:**\n",
    "    - Informaçoes incorretas (idade muito abaixo ou muito acima, dados não descritos no dicionário, etc)\n",
    "\n",
    "**4. Análises estatísticas**\n",
    "    Análise de informações gerais do dataset, sem focar no objeto de pesquisa, como:\n",
    "    - Distribuicão por idade, sexo, anos de conclusão do ensino médio, etc.\n",
    "    \n",
    "    obs: Primeira análise para entender melhor o dataset e os dados que serão trabalhados. A familiaridade com o dataset auxiliará na formação de hipóteses no próximo passo, este com as análises focadas no objeto de estudo: relação das notas obtidas x renda declarada\n",
    "    \n",
    "**5. Formulação das hipóteses**"
   ]
  },
  {
   "cell_type": "markdown",
   "metadata": {
    "heading_collapsed": true
   },
   "source": [
    "## IMPORTAÇÃO LIBS"
   ]
  },
  {
   "cell_type": "code",
   "execution_count": 1,
   "metadata": {
    "hidden": true
   },
   "outputs": [],
   "source": [
    "import pandas               as pd\n",
    "import seaborn              as sns\n",
    "import matplotlib.pyplot    as plt\n",
    "import numpy                as np"
   ]
  },
  {
   "cell_type": "markdown",
   "metadata": {
    "heading_collapsed": true
   },
   "source": [
    "## IMPORTAÇÃO DATASET"
   ]
  },
  {
   "cell_type": "code",
   "execution_count": 2,
   "metadata": {
    "hidden": true
   },
   "outputs": [],
   "source": [
    "df_raw = pd.read_csv('MICRODADOS_ENEM_2019.csv', encoding = \"ISO-8859-1\", sep = ';')"
   ]
  },
  {
   "cell_type": "code",
   "execution_count": 3,
   "metadata": {
    "hidden": true
   },
   "outputs": [
    {
     "data": {
      "text/plain": [
       "array(['PA', 'TO', 'MA', 'MG', 'CE', 'AM', 'GO', 'RO', 'DF', 'SC', 'PR',\n",
       "       'AP', 'PI', 'RJ', 'ES', 'RR', 'SP', 'RS', 'MT', 'AC', 'MS', 'BA',\n",
       "       'PB', 'PE', 'RN', 'SE', 'AL'], dtype=object)"
      ]
     },
     "execution_count": 3,
     "metadata": {},
     "output_type": "execute_result"
    }
   ],
   "source": [
    "# Visualizando os estados\n",
    "df_raw['SG_UF_RESIDENCIA'].unique()"
   ]
  },
  {
   "cell_type": "code",
   "execution_count": 4,
   "metadata": {
    "hidden": true
   },
   "outputs": [],
   "source": [
    "# Criando a variável df para dados somente de SP\n",
    "df = df_raw[(df_raw['SG_UF_RESIDENCIA'] == 'SP')]"
   ]
  },
  {
   "cell_type": "code",
   "execution_count": 5,
   "metadata": {
    "hidden": true
   },
   "outputs": [
    {
     "data": {
      "text/html": [
       "<div>\n",
       "<style scoped>\n",
       "    .dataframe tbody tr th:only-of-type {\n",
       "        vertical-align: middle;\n",
       "    }\n",
       "\n",
       "    .dataframe tbody tr th {\n",
       "        vertical-align: top;\n",
       "    }\n",
       "\n",
       "    .dataframe thead th {\n",
       "        text-align: right;\n",
       "    }\n",
       "</style>\n",
       "<table border=\"1\" class=\"dataframe\">\n",
       "  <thead>\n",
       "    <tr style=\"text-align: right;\">\n",
       "      <th></th>\n",
       "      <th>NU_INSCRICAO</th>\n",
       "      <th>NU_ANO</th>\n",
       "      <th>CO_MUNICIPIO_RESIDENCIA</th>\n",
       "      <th>NO_MUNICIPIO_RESIDENCIA</th>\n",
       "      <th>CO_UF_RESIDENCIA</th>\n",
       "      <th>SG_UF_RESIDENCIA</th>\n",
       "      <th>NU_IDADE</th>\n",
       "      <th>TP_SEXO</th>\n",
       "      <th>TP_ESTADO_CIVIL</th>\n",
       "      <th>TP_COR_RACA</th>\n",
       "      <th>...</th>\n",
       "      <th>Q016</th>\n",
       "      <th>Q017</th>\n",
       "      <th>Q018</th>\n",
       "      <th>Q019</th>\n",
       "      <th>Q020</th>\n",
       "      <th>Q021</th>\n",
       "      <th>Q022</th>\n",
       "      <th>Q023</th>\n",
       "      <th>Q024</th>\n",
       "      <th>Q025</th>\n",
       "    </tr>\n",
       "  </thead>\n",
       "  <tbody>\n",
       "    <tr>\n",
       "      <th>3196656</th>\n",
       "      <td>190004201346</td>\n",
       "      <td>2019</td>\n",
       "      <td>3505302</td>\n",
       "      <td>Barra Bonita</td>\n",
       "      <td>35</td>\n",
       "      <td>SP</td>\n",
       "      <td>19</td>\n",
       "      <td>F</td>\n",
       "      <td>1</td>\n",
       "      <td>1</td>\n",
       "      <td>...</td>\n",
       "      <td>B</td>\n",
       "      <td>A</td>\n",
       "      <td>A</td>\n",
       "      <td>B</td>\n",
       "      <td>A</td>\n",
       "      <td>A</td>\n",
       "      <td>D</td>\n",
       "      <td>A</td>\n",
       "      <td>B</td>\n",
       "      <td>B</td>\n",
       "    </tr>\n",
       "    <tr>\n",
       "      <th>4137539</th>\n",
       "      <td>190005142253</td>\n",
       "      <td>2019</td>\n",
       "      <td>3505302</td>\n",
       "      <td>Barra Bonita</td>\n",
       "      <td>35</td>\n",
       "      <td>SP</td>\n",
       "      <td>16</td>\n",
       "      <td>F</td>\n",
       "      <td>1</td>\n",
       "      <td>1</td>\n",
       "      <td>...</td>\n",
       "      <td>B</td>\n",
       "      <td>A</td>\n",
       "      <td>B</td>\n",
       "      <td>D</td>\n",
       "      <td>A</td>\n",
       "      <td>A</td>\n",
       "      <td>D</td>\n",
       "      <td>B</td>\n",
       "      <td>C</td>\n",
       "      <td>B</td>\n",
       "    </tr>\n",
       "    <tr>\n",
       "      <th>1092467</th>\n",
       "      <td>190002097115</td>\n",
       "      <td>2019</td>\n",
       "      <td>3502101</td>\n",
       "      <td>Andradina</td>\n",
       "      <td>35</td>\n",
       "      <td>SP</td>\n",
       "      <td>18</td>\n",
       "      <td>F</td>\n",
       "      <td>1</td>\n",
       "      <td>1</td>\n",
       "      <td>...</td>\n",
       "      <td>B</td>\n",
       "      <td>A</td>\n",
       "      <td>B</td>\n",
       "      <td>B</td>\n",
       "      <td>A</td>\n",
       "      <td>A</td>\n",
       "      <td>C</td>\n",
       "      <td>A</td>\n",
       "      <td>B</td>\n",
       "      <td>B</td>\n",
       "    </tr>\n",
       "  </tbody>\n",
       "</table>\n",
       "<p>3 rows × 136 columns</p>\n",
       "</div>"
      ],
      "text/plain": [
       "         NU_INSCRICAO  NU_ANO  CO_MUNICIPIO_RESIDENCIA  \\\n",
       "3196656  190004201346    2019                  3505302   \n",
       "4137539  190005142253    2019                  3505302   \n",
       "1092467  190002097115    2019                  3502101   \n",
       "\n",
       "        NO_MUNICIPIO_RESIDENCIA  CO_UF_RESIDENCIA SG_UF_RESIDENCIA  NU_IDADE  \\\n",
       "3196656            Barra Bonita                35               SP        19   \n",
       "4137539            Barra Bonita                35               SP        16   \n",
       "1092467               Andradina                35               SP        18   \n",
       "\n",
       "        TP_SEXO  TP_ESTADO_CIVIL  TP_COR_RACA  ...  Q016  Q017 Q018  Q019  \\\n",
       "3196656       F                1            1  ...     B     A    A     B   \n",
       "4137539       F                1            1  ...     B     A    B     D   \n",
       "1092467       F                1            1  ...     B     A    B     B   \n",
       "\n",
       "        Q020  Q021  Q022  Q023  Q024  Q025  \n",
       "3196656    A     A     D     A     B     B  \n",
       "4137539    A     A     D     B     C     B  \n",
       "1092467    A     A     C     A     B     B  \n",
       "\n",
       "[3 rows x 136 columns]"
      ]
     },
     "execution_count": 5,
     "metadata": {},
     "output_type": "execute_result"
    }
   ],
   "source": [
    "# Visualizando o dataframe com dados aleatórios\n",
    "df.sample(3)"
   ]
  },
  {
   "cell_type": "markdown",
   "metadata": {},
   "source": [
    "## EXPLORAÇÃO DO DATASET"
   ]
  },
  {
   "cell_type": "code",
   "execution_count": 6,
   "metadata": {},
   "outputs": [
    {
     "name": "stdout",
     "output_type": "stream",
     "text": [
      "O dataset possui 813772 linhas e 136 colunas\n"
     ]
    }
   ],
   "source": [
    "# Tamanho do dataset\n",
    "df.shape\n",
    "\n",
    "print('O dataset possui {} linhas e {} colunas'.format(df.shape[0], df.shape[1]))"
   ]
  },
  {
   "cell_type": "code",
   "execution_count": 7,
   "metadata": {},
   "outputs": [
    {
     "data": {
      "text/plain": [
       "array(['NU_INSCRICAO', 'NU_ANO', 'CO_MUNICIPIO_RESIDENCIA',\n",
       "       'NO_MUNICIPIO_RESIDENCIA', 'CO_UF_RESIDENCIA', 'SG_UF_RESIDENCIA',\n",
       "       'NU_IDADE', 'TP_SEXO', 'TP_ESTADO_CIVIL', 'TP_COR_RACA',\n",
       "       'TP_NACIONALIDADE', 'CO_MUNICIPIO_NASCIMENTO',\n",
       "       'NO_MUNICIPIO_NASCIMENTO', 'CO_UF_NASCIMENTO', 'SG_UF_NASCIMENTO',\n",
       "       'TP_ST_CONCLUSAO', 'TP_ANO_CONCLUIU', 'TP_ESCOLA', 'TP_ENSINO',\n",
       "       'IN_TREINEIRO', 'CO_ESCOLA', 'CO_MUNICIPIO_ESC',\n",
       "       'NO_MUNICIPIO_ESC', 'CO_UF_ESC', 'SG_UF_ESC',\n",
       "       'TP_DEPENDENCIA_ADM_ESC', 'TP_LOCALIZACAO_ESC', 'TP_SIT_FUNC_ESC',\n",
       "       'IN_BAIXA_VISAO', 'IN_CEGUEIRA', 'IN_SURDEZ',\n",
       "       'IN_DEFICIENCIA_AUDITIVA', 'IN_SURDO_CEGUEIRA',\n",
       "       'IN_DEFICIENCIA_FISICA', 'IN_DEFICIENCIA_MENTAL',\n",
       "       'IN_DEFICIT_ATENCAO', 'IN_DISLEXIA', 'IN_DISCALCULIA',\n",
       "       'IN_AUTISMO', 'IN_VISAO_MONOCULAR', 'IN_OUTRA_DEF', 'IN_GESTANTE',\n",
       "       'IN_LACTANTE', 'IN_IDOSO', 'IN_ESTUDA_CLASSE_HOSPITALAR',\n",
       "       'IN_SEM_RECURSO', 'IN_BRAILLE', 'IN_AMPLIADA_24', 'IN_AMPLIADA_18',\n",
       "       'IN_LEDOR', 'IN_ACESSO', 'IN_TRANSCRICAO', 'IN_LIBRAS',\n",
       "       'IN_TEMPO_ADICIONAL', 'IN_LEITURA_LABIAL', 'IN_MESA_CADEIRA_RODAS',\n",
       "       'IN_MESA_CADEIRA_SEPARADA', 'IN_APOIO_PERNA', 'IN_GUIA_INTERPRETE',\n",
       "       'IN_COMPUTADOR', 'IN_CADEIRA_ESPECIAL', 'IN_CADEIRA_CANHOTO',\n",
       "       'IN_CADEIRA_ACOLCHOADA', 'IN_PROVA_DEITADO', 'IN_MOBILIARIO_OBESO',\n",
       "       'IN_LAMINA_OVERLAY', 'IN_PROTETOR_AURICULAR', 'IN_MEDIDOR_GLICOSE',\n",
       "       'IN_MAQUINA_BRAILE', 'IN_SOROBAN', 'IN_MARCA_PASSO', 'IN_SONDA',\n",
       "       'IN_MEDICAMENTOS', 'IN_SALA_INDIVIDUAL', 'IN_SALA_ESPECIAL',\n",
       "       'IN_SALA_ACOMPANHANTE', 'IN_MOBILIARIO_ESPECIFICO',\n",
       "       'IN_MATERIAL_ESPECIFICO', 'IN_NOME_SOCIAL', 'CO_MUNICIPIO_PROVA',\n",
       "       'NO_MUNICIPIO_PROVA', 'CO_UF_PROVA', 'SG_UF_PROVA',\n",
       "       'TP_PRESENCA_CN', 'TP_PRESENCA_CH', 'TP_PRESENCA_LC',\n",
       "       'TP_PRESENCA_MT', 'CO_PROVA_CN', 'CO_PROVA_CH', 'CO_PROVA_LC',\n",
       "       'CO_PROVA_MT', 'NU_NOTA_CN', 'NU_NOTA_CH', 'NU_NOTA_LC',\n",
       "       'NU_NOTA_MT', 'TX_RESPOSTAS_CN', 'TX_RESPOSTAS_CH',\n",
       "       'TX_RESPOSTAS_LC', 'TX_RESPOSTAS_MT', 'TP_LINGUA',\n",
       "       'TX_GABARITO_CN', 'TX_GABARITO_CH', 'TX_GABARITO_LC',\n",
       "       'TX_GABARITO_MT', 'TP_STATUS_REDACAO', 'NU_NOTA_COMP1',\n",
       "       'NU_NOTA_COMP2', 'NU_NOTA_COMP3', 'NU_NOTA_COMP4', 'NU_NOTA_COMP5',\n",
       "       'NU_NOTA_REDACAO', 'Q001', 'Q002', 'Q003', 'Q004', 'Q005', 'Q006',\n",
       "       'Q007', 'Q008', 'Q009', 'Q010', 'Q011', 'Q012', 'Q013', 'Q014',\n",
       "       'Q015', 'Q016', 'Q017', 'Q018', 'Q019', 'Q020', 'Q021', 'Q022',\n",
       "       'Q023', 'Q024', 'Q025'], dtype=object)"
      ]
     },
     "execution_count": 7,
     "metadata": {},
     "output_type": "execute_result"
    }
   ],
   "source": [
    "# Verificando as colunas existentes\n",
    "df.columns.values"
   ]
  },
  {
   "cell_type": "code",
   "execution_count": 8,
   "metadata": {},
   "outputs": [
    {
     "data": {
      "text/plain": [
       "SP    813772\n",
       "Name: SG_UF_RESIDENCIA, dtype: int64"
      ]
     },
     "execution_count": 8,
     "metadata": {},
     "output_type": "execute_result"
    }
   ],
   "source": [
    "# Verificando se somente SP está nos dataframe\n",
    "df['SG_UF_RESIDENCIA'].value_counts()"
   ]
  },
  {
   "cell_type": "code",
   "execution_count": 9,
   "metadata": {},
   "outputs": [],
   "source": [
    "# Selecionando as colunas que serão importantes para análise (muitas colunas com valores nulos)\n",
    "\n",
    "columns = ['NU_INSCRICAO', 'NU_IDADE', 'TP_SEXO', 'TP_ESTADO_CIVIL', 'TP_COR_RACA',\n",
    "          'TP_ANO_CONCLUIU', 'TP_ESCOLA','IN_TREINEIRO', \n",
    "          'CO_ESCOLA', 'TP_LOCALIZACAO_ESC', 'IN_GESTANTE', 'IN_LACTANTE', 'IN_NOME_SOCIAL',\n",
    "          'TP_PRESENCA_CN', 'TP_PRESENCA_CH','TP_PRESENCA_LC','TP_PRESENCA_MT', 'NU_NOTA_CN', \n",
    "           'TP_ST_CONCLUSAO','NU_NOTA_CH', 'NU_NOTA_LC','NU_NOTA_MT', 'TP_LINGUA', 'TP_STATUS_REDACAO', \n",
    "           'NU_NOTA_REDACAO',\n",
    "           'Q001','Q002','Q003','Q004','Q005','Q006','Q007','Q008','Q009','Q010','Q011','Q012','Q013',\n",
    "           'Q014','Q015','Q016','Q017','Q018','Q019','Q020','Q021','Q022','Q023','Q024','Q025']\n"
   ]
  },
  {
   "cell_type": "code",
   "execution_count": 10,
   "metadata": {},
   "outputs": [
    {
     "data": {
      "text/html": [
       "<div>\n",
       "<style scoped>\n",
       "    .dataframe tbody tr th:only-of-type {\n",
       "        vertical-align: middle;\n",
       "    }\n",
       "\n",
       "    .dataframe tbody tr th {\n",
       "        vertical-align: top;\n",
       "    }\n",
       "\n",
       "    .dataframe thead th {\n",
       "        text-align: right;\n",
       "    }\n",
       "</style>\n",
       "<table border=\"1\" class=\"dataframe\">\n",
       "  <thead>\n",
       "    <tr style=\"text-align: right;\">\n",
       "      <th></th>\n",
       "      <th>NU_INSCRICAO</th>\n",
       "      <th>NU_IDADE</th>\n",
       "      <th>TP_SEXO</th>\n",
       "      <th>TP_ESTADO_CIVIL</th>\n",
       "      <th>TP_COR_RACA</th>\n",
       "      <th>TP_ANO_CONCLUIU</th>\n",
       "      <th>TP_ESCOLA</th>\n",
       "      <th>IN_TREINEIRO</th>\n",
       "      <th>CO_ESCOLA</th>\n",
       "      <th>TP_LOCALIZACAO_ESC</th>\n",
       "      <th>...</th>\n",
       "      <th>Q016</th>\n",
       "      <th>Q017</th>\n",
       "      <th>Q018</th>\n",
       "      <th>Q019</th>\n",
       "      <th>Q020</th>\n",
       "      <th>Q021</th>\n",
       "      <th>Q022</th>\n",
       "      <th>Q023</th>\n",
       "      <th>Q024</th>\n",
       "      <th>Q025</th>\n",
       "    </tr>\n",
       "  </thead>\n",
       "  <tbody>\n",
       "    <tr>\n",
       "      <th>2325763</th>\n",
       "      <td>190003330427</td>\n",
       "      <td>17</td>\n",
       "      <td>M</td>\n",
       "      <td>1</td>\n",
       "      <td>1</td>\n",
       "      <td>0</td>\n",
       "      <td>2</td>\n",
       "      <td>0</td>\n",
       "      <td>35034400.0</td>\n",
       "      <td>1.0</td>\n",
       "      <td>...</td>\n",
       "      <td>B</td>\n",
       "      <td>B</td>\n",
       "      <td>B</td>\n",
       "      <td>D</td>\n",
       "      <td>A</td>\n",
       "      <td>A</td>\n",
       "      <td>D</td>\n",
       "      <td>B</td>\n",
       "      <td>C</td>\n",
       "      <td>B</td>\n",
       "    </tr>\n",
       "    <tr>\n",
       "      <th>3380323</th>\n",
       "      <td>190004385015</td>\n",
       "      <td>17</td>\n",
       "      <td>M</td>\n",
       "      <td>1</td>\n",
       "      <td>3</td>\n",
       "      <td>0</td>\n",
       "      <td>3</td>\n",
       "      <td>0</td>\n",
       "      <td>NaN</td>\n",
       "      <td>NaN</td>\n",
       "      <td>...</td>\n",
       "      <td>B</td>\n",
       "      <td>A</td>\n",
       "      <td>A</td>\n",
       "      <td>B</td>\n",
       "      <td>B</td>\n",
       "      <td>A</td>\n",
       "      <td>D</td>\n",
       "      <td>A</td>\n",
       "      <td>B</td>\n",
       "      <td>B</td>\n",
       "    </tr>\n",
       "    <tr>\n",
       "      <th>832324</th>\n",
       "      <td>190001836971</td>\n",
       "      <td>16</td>\n",
       "      <td>F</td>\n",
       "      <td>1</td>\n",
       "      <td>1</td>\n",
       "      <td>0</td>\n",
       "      <td>1</td>\n",
       "      <td>1</td>\n",
       "      <td>NaN</td>\n",
       "      <td>NaN</td>\n",
       "      <td>...</td>\n",
       "      <td>B</td>\n",
       "      <td>B</td>\n",
       "      <td>B</td>\n",
       "      <td>C</td>\n",
       "      <td>A</td>\n",
       "      <td>B</td>\n",
       "      <td>D</td>\n",
       "      <td>B</td>\n",
       "      <td>B</td>\n",
       "      <td>B</td>\n",
       "    </tr>\n",
       "  </tbody>\n",
       "</table>\n",
       "<p>3 rows × 50 columns</p>\n",
       "</div>"
      ],
      "text/plain": [
       "         NU_INSCRICAO  NU_IDADE TP_SEXO  TP_ESTADO_CIVIL  TP_COR_RACA  \\\n",
       "2325763  190003330427        17       M                1            1   \n",
       "3380323  190004385015        17       M                1            3   \n",
       "832324   190001836971        16       F                1            1   \n",
       "\n",
       "         TP_ANO_CONCLUIU  TP_ESCOLA  IN_TREINEIRO   CO_ESCOLA  \\\n",
       "2325763                0          2             0  35034400.0   \n",
       "3380323                0          3             0         NaN   \n",
       "832324                 0          1             1         NaN   \n",
       "\n",
       "         TP_LOCALIZACAO_ESC  ...  Q016  Q017  Q018  Q019  Q020  Q021  Q022  \\\n",
       "2325763                 1.0  ...     B     B     B     D     A     A     D   \n",
       "3380323                 NaN  ...     B     A     A     B     B     A     D   \n",
       "832324                  NaN  ...     B     B     B     C     A     B     D   \n",
       "\n",
       "         Q023  Q024  Q025  \n",
       "2325763     B     C     B  \n",
       "3380323     A     B     B  \n",
       "832324      B     B     B  \n",
       "\n",
       "[3 rows x 50 columns]"
      ]
     },
     "execution_count": 10,
     "metadata": {},
     "output_type": "execute_result"
    }
   ],
   "source": [
    "# Sobrepondo a variavel df // Somente as colunas selecionadas para análise\n",
    "df = df[columns]\n",
    "df.sample(3)"
   ]
  },
  {
   "cell_type": "code",
   "execution_count": 11,
   "metadata": {},
   "outputs": [
    {
     "name": "stdout",
     "output_type": "stream",
     "text": [
      "O dataset possui 813772 linhas e 50 colunas\n"
     ]
    }
   ],
   "source": [
    "# Tamanho do dataset\n",
    "df.shape\n",
    "\n",
    "print('O dataset possui {} linhas e {} colunas'.format(df.shape[0], df.shape[1]))"
   ]
  },
  {
   "cell_type": "code",
   "execution_count": 12,
   "metadata": {},
   "outputs": [
    {
     "data": {
      "text/plain": [
       "NU_INSCRICAO               0\n",
       "NU_IDADE                   0\n",
       "TP_SEXO                    0\n",
       "TP_ESTADO_CIVIL            0\n",
       "TP_COR_RACA                0\n",
       "TP_ANO_CONCLUIU            0\n",
       "TP_ESCOLA                  0\n",
       "IN_TREINEIRO               0\n",
       "CO_ESCOLA             594480\n",
       "TP_LOCALIZACAO_ESC    594480\n",
       "IN_GESTANTE                0\n",
       "IN_LACTANTE                0\n",
       "IN_NOME_SOCIAL             0\n",
       "TP_PRESENCA_CN             0\n",
       "TP_PRESENCA_CH             0\n",
       "TP_PRESENCA_LC             0\n",
       "TP_PRESENCA_MT             0\n",
       "NU_NOTA_CN            231167\n",
       "TP_ST_CONCLUSAO            0\n",
       "NU_NOTA_CH            193127\n",
       "NU_NOTA_LC            193127\n",
       "NU_NOTA_MT            231167\n",
       "TP_LINGUA                  0\n",
       "TP_STATUS_REDACAO     193127\n",
       "NU_NOTA_REDACAO       193127\n",
       "Q001                       0\n",
       "Q002                       0\n",
       "Q003                       0\n",
       "Q004                       0\n",
       "Q005                       0\n",
       "Q006                       0\n",
       "Q007                       0\n",
       "Q008                       0\n",
       "Q009                       0\n",
       "Q010                       0\n",
       "Q011                       0\n",
       "Q012                       0\n",
       "Q013                       0\n",
       "Q014                       0\n",
       "Q015                       0\n",
       "Q016                       0\n",
       "Q017                       0\n",
       "Q018                       0\n",
       "Q019                       0\n",
       "Q020                       0\n",
       "Q021                       0\n",
       "Q022                       0\n",
       "Q023                       0\n",
       "Q024                       0\n",
       "Q025                       0\n",
       "dtype: int64"
      ]
     },
     "execution_count": 12,
     "metadata": {},
     "output_type": "execute_result"
    }
   ],
   "source": [
    "# Verificando valores nulos\n",
    "df.isna().sum()"
   ]
  },
  {
   "cell_type": "code",
   "execution_count": 13,
   "metadata": {},
   "outputs": [
    {
     "data": {
      "text/plain": [
       "219292"
      ]
     },
     "execution_count": 13,
     "metadata": {},
     "output_type": "execute_result"
    }
   ],
   "source": [
    "# Contando a quantidade de NaN no dataframe\n",
    "valores_nulos_escola = np.count_nonzero(~np.isnan(df['CO_ESCOLA']))\n",
    "valores_nulos_escola"
   ]
  },
  {
   "cell_type": "raw",
   "metadata": {},
   "source": [
    "    O código da escola e a localização possuem muitos dados faltantes, podendo distorcer a analises. \n",
    "    Como o foco desta análise é a desigualdade de renda (e alguns pontos de gênero), estes valores serão exluídos.\n",
    "    Dados da nota vazios fazem sentido (alunos que faltaram, zeraram, etc.)"
   ]
  },
  {
   "cell_type": "code",
   "execution_count": 14,
   "metadata": {},
   "outputs": [],
   "source": [
    "# Excluindo as colunas CO_ESCOLA e TP_LOCALIZACAO_ESC\n",
    "df.drop(['CO_ESCOLA', 'TP_LOCALIZACAO_ESC'], axis = 1, inplace = True)"
   ]
  },
  {
   "cell_type": "code",
   "execution_count": 15,
   "metadata": {},
   "outputs": [
    {
     "name": "stdout",
     "output_type": "stream",
     "text": [
      "O dataset possui 813772 linhas e 48 colunas\n"
     ]
    }
   ],
   "source": [
    "# Tamanho do dataset\n",
    "df.shape\n",
    "\n",
    "print('O dataset possui {} linhas e {} colunas'.format(df.shape[0], df.shape[1]))"
   ]
  },
  {
   "cell_type": "code",
   "execution_count": 16,
   "metadata": {},
   "outputs": [
    {
     "data": {
      "text/plain": [
       "NU_INSCRICAO           int64\n",
       "NU_IDADE               int64\n",
       "TP_SEXO               object\n",
       "TP_ESTADO_CIVIL        int64\n",
       "TP_COR_RACA            int64\n",
       "TP_ANO_CONCLUIU        int64\n",
       "TP_ESCOLA              int64\n",
       "IN_TREINEIRO           int64\n",
       "IN_GESTANTE            int64\n",
       "IN_LACTANTE            int64\n",
       "IN_NOME_SOCIAL         int64\n",
       "TP_PRESENCA_CN         int64\n",
       "TP_PRESENCA_CH         int64\n",
       "TP_PRESENCA_LC         int64\n",
       "TP_PRESENCA_MT         int64\n",
       "NU_NOTA_CN           float64\n",
       "TP_ST_CONCLUSAO        int64\n",
       "NU_NOTA_CH           float64\n",
       "NU_NOTA_LC           float64\n",
       "NU_NOTA_MT           float64\n",
       "TP_LINGUA              int64\n",
       "TP_STATUS_REDACAO    float64\n",
       "NU_NOTA_REDACAO      float64\n",
       "Q001                  object\n",
       "Q002                  object\n",
       "Q003                  object\n",
       "Q004                  object\n",
       "Q005                   int64\n",
       "Q006                  object\n",
       "Q007                  object\n",
       "Q008                  object\n",
       "Q009                  object\n",
       "Q010                  object\n",
       "Q011                  object\n",
       "Q012                  object\n",
       "Q013                  object\n",
       "Q014                  object\n",
       "Q015                  object\n",
       "Q016                  object\n",
       "Q017                  object\n",
       "Q018                  object\n",
       "Q019                  object\n",
       "Q020                  object\n",
       "Q021                  object\n",
       "Q022                  object\n",
       "Q023                  object\n",
       "Q024                  object\n",
       "Q025                  object\n",
       "dtype: object"
      ]
     },
     "execution_count": 16,
     "metadata": {},
     "output_type": "execute_result"
    }
   ],
   "source": [
    "# Verificando o tipo de dado\n",
    "df.dtypes"
   ]
  },
  {
   "cell_type": "raw",
   "metadata": {},
   "source": [
    "        CONCLUSÃO\n",
    "        \n",
    "        Conforme variáveis selecionadas (colunas), pode-se classificá-las:\n",
    "        \n",
    "        Variáveis categóricas (características do aluno)\n",
    "        - NU_IDADE\n",
    "        - TP_ANO_CONCLUIU\n",
    "        - TP_SEXO\n",
    "        - TP_ESTADO_CIVIL\n",
    "        - TP_COR_RACA\n",
    "        - TP_ANO_CONCLUIU\n",
    "        - IN_TREINEIRO\n",
    "        - IN_GESTANTE\n",
    "        - IN_LACTANTE\n",
    "        - IN_NOME_SOCIAL\n",
    "        - TP_ESCOLA (Tipo de escola - embora não seja caract. do aluno, será considerado)\n",
    "\n",
    "        Variáveis Questionário Socioeconômico\n",
    "        - Q001\n",
    "        - Q002\n",
    "        - Q003\n",
    "        - Q004\n",
    "        - Q005\n",
    "        - Q006\n",
    "        - Q007\n",
    "        - Q008\n",
    "        - Q009\n",
    "        - Q010\n",
    "        - Q011\n",
    "        - Q012\n",
    "        - Q013\n",
    "        - Q014\n",
    "        - Q015\n",
    "        - Q016\n",
    "        - Q017\n",
    "        - Q018\n",
    "        - Q019\n",
    "        - Q020\n",
    "        - Q021\n",
    "        - Q022\n",
    "        - Q023\n",
    "        - Q024\n",
    "        - Q025\n",
    "\n",
    "        Variáveis referente a presença do aluno nas provas\n",
    "        - TP_PRESENCA_CN\n",
    "        - TP_PRESENCA_CH\n",
    "        - TP_PRESENCA_LC\n",
    "        - TP_PRESENCA_MT\n",
    "\n",
    "\n",
    "        Variáveis referente a nota obtida\n",
    "        - NU_NOTA_CN\n",
    "        - NU_NOTA_CH\n",
    "        - NU_NOTA_LC\n",
    "        - NU_NOTA_MT\n",
    "        \n",
    "        Variável referente ao idioma escolhido para prova de língua estrangeira\n",
    "        - TP_LINGUA\n",
    "        \n",
    "        Variável referente a situação da redação\n",
    "        - TP_STATUS_REDACAO  \n",
    "        \n",
    "        Variável nota da redação\n",
    "        - NU_NOTA_REDACAO\n",
    "        \n",
    "        \n",
    "        (Este agrupamento de variáveis facilitará as posteriores análises)\n",
    "        (NU_INSCRICAO == ID)"
   ]
  },
  {
   "cell_type": "markdown",
   "metadata": {
    "heading_collapsed": true
   },
   "source": [
    "## ANÁLISE - QUALIDADE DOS DADOS"
   ]
  },
  {
   "cell_type": "markdown",
   "metadata": {
    "hidden": true
   },
   "source": [
    "### IDADE"
   ]
  },
  {
   "cell_type": "code",
   "execution_count": 17,
   "metadata": {
    "hidden": true
   },
   "outputs": [
    {
     "name": "stdout",
     "output_type": "stream",
     "text": [
      "O aluno mais novo tem 2 anos e o mais velho 91 anos\n"
     ]
    }
   ],
   "source": [
    "# Analisando o aluno mais novo e o mais velho\n",
    "print('O aluno mais novo tem {} anos e o mais velho {} anos'.format(df['NU_IDADE'].min(), df['NU_IDADE'].max() ))"
   ]
  },
  {
   "cell_type": "code",
   "execution_count": 18,
   "metadata": {
    "hidden": true
   },
   "outputs": [
    {
     "data": {
      "text/plain": [
       "2     1\n",
       "3     1\n",
       "4     1\n",
       "5     2\n",
       "6     2\n",
       "     ..\n",
       "80    2\n",
       "81    3\n",
       "82    2\n",
       "86    1\n",
       "91    1\n",
       "Name: NU_IDADE, Length: 80, dtype: int64"
      ]
     },
     "execution_count": 18,
     "metadata": {},
     "output_type": "execute_result"
    }
   ],
   "source": [
    "#  Visualizando os alunos por idade (verificado que há idades incorretas)\n",
    "df['NU_IDADE'].value_counts().sort_index()"
   ]
  },
  {
   "cell_type": "code",
   "execution_count": 19,
   "metadata": {
    "hidden": true
   },
   "outputs": [
    {
     "data": {
      "text/plain": [
       "22"
      ]
     },
     "execution_count": 19,
     "metadata": {},
     "output_type": "execute_result"
    }
   ],
   "source": [
    "# Considerando que para fazer o ENEM precisa estar cursando o ensino médio, o que inicia entre 14 - 15 anos, \n",
    "# foi considerando alunos a partir de 13 anos (considerando alguns alunos mais \"adiantados\" quanto a idade)\n",
    "# Alunos com idade menor a 13 anos terão a idade substituída para a mediana\n",
    "\n",
    "# Quantidade de alunos com idade menor que 13\n",
    "df['NU_IDADE'][df['NU_IDADE'] < 13].count()"
   ]
  },
  {
   "cell_type": "code",
   "execution_count": 20,
   "metadata": {
    "hidden": true
   },
   "outputs": [
    {
     "name": "stdout",
     "output_type": "stream",
     "text": [
      "20.90507537737843\n",
      "18.0\n"
     ]
    }
   ],
   "source": [
    "# Calculando a média e mediana dos alunos - Analisar se a substituicao faz sentido\n",
    "\n",
    "print(df['NU_IDADE'].mean())\n",
    "print(df['NU_IDADE'].median())"
   ]
  },
  {
   "cell_type": "code",
   "execution_count": 21,
   "metadata": {
    "hidden": true
   },
   "outputs": [
    {
     "data": {
      "text/html": [
       "<div>\n",
       "<style scoped>\n",
       "    .dataframe tbody tr th:only-of-type {\n",
       "        vertical-align: middle;\n",
       "    }\n",
       "\n",
       "    .dataframe tbody tr th {\n",
       "        vertical-align: top;\n",
       "    }\n",
       "\n",
       "    .dataframe thead th {\n",
       "        text-align: right;\n",
       "    }\n",
       "</style>\n",
       "<table border=\"1\" class=\"dataframe\">\n",
       "  <thead>\n",
       "    <tr style=\"text-align: right;\">\n",
       "      <th></th>\n",
       "      <th>NU_INSCRICAO</th>\n",
       "      <th>NU_IDADE</th>\n",
       "    </tr>\n",
       "  </thead>\n",
       "  <tbody>\n",
       "    <tr>\n",
       "      <th>796441</th>\n",
       "      <td>190001801086</td>\n",
       "      <td>8</td>\n",
       "    </tr>\n",
       "    <tr>\n",
       "      <th>868999</th>\n",
       "      <td>190001873646</td>\n",
       "      <td>12</td>\n",
       "    </tr>\n",
       "    <tr>\n",
       "      <th>1521165</th>\n",
       "      <td>190002525820</td>\n",
       "      <td>3</td>\n",
       "    </tr>\n",
       "    <tr>\n",
       "      <th>2298099</th>\n",
       "      <td>190003302763</td>\n",
       "      <td>7</td>\n",
       "    </tr>\n",
       "    <tr>\n",
       "      <th>2298850</th>\n",
       "      <td>190003303514</td>\n",
       "      <td>4</td>\n",
       "    </tr>\n",
       "    <tr>\n",
       "      <th>2315222</th>\n",
       "      <td>190003319886</td>\n",
       "      <td>8</td>\n",
       "    </tr>\n",
       "    <tr>\n",
       "      <th>2631091</th>\n",
       "      <td>190003635760</td>\n",
       "      <td>8</td>\n",
       "    </tr>\n",
       "    <tr>\n",
       "      <th>3198273</th>\n",
       "      <td>190004202963</td>\n",
       "      <td>12</td>\n",
       "    </tr>\n",
       "    <tr>\n",
       "      <th>3221784</th>\n",
       "      <td>190004226475</td>\n",
       "      <td>7</td>\n",
       "    </tr>\n",
       "    <tr>\n",
       "      <th>3268517</th>\n",
       "      <td>190004273209</td>\n",
       "      <td>5</td>\n",
       "    </tr>\n",
       "    <tr>\n",
       "      <th>3757788</th>\n",
       "      <td>190004762487</td>\n",
       "      <td>7</td>\n",
       "    </tr>\n",
       "    <tr>\n",
       "      <th>3901924</th>\n",
       "      <td>190004906627</td>\n",
       "      <td>12</td>\n",
       "    </tr>\n",
       "    <tr>\n",
       "      <th>4142532</th>\n",
       "      <td>190005147246</td>\n",
       "      <td>8</td>\n",
       "    </tr>\n",
       "    <tr>\n",
       "      <th>4152244</th>\n",
       "      <td>190005156959</td>\n",
       "      <td>12</td>\n",
       "    </tr>\n",
       "    <tr>\n",
       "      <th>4346688</th>\n",
       "      <td>190005351413</td>\n",
       "      <td>8</td>\n",
       "    </tr>\n",
       "    <tr>\n",
       "      <th>4796072</th>\n",
       "      <td>190005800827</td>\n",
       "      <td>12</td>\n",
       "    </tr>\n",
       "    <tr>\n",
       "      <th>4836056</th>\n",
       "      <td>190005840961</td>\n",
       "      <td>6</td>\n",
       "    </tr>\n",
       "    <tr>\n",
       "      <th>4841130</th>\n",
       "      <td>190005846035</td>\n",
       "      <td>2</td>\n",
       "    </tr>\n",
       "    <tr>\n",
       "      <th>4844303</th>\n",
       "      <td>190005849208</td>\n",
       "      <td>12</td>\n",
       "    </tr>\n",
       "    <tr>\n",
       "      <th>4873161</th>\n",
       "      <td>190005878068</td>\n",
       "      <td>8</td>\n",
       "    </tr>\n",
       "    <tr>\n",
       "      <th>4998132</th>\n",
       "      <td>190006003044</td>\n",
       "      <td>6</td>\n",
       "    </tr>\n",
       "    <tr>\n",
       "      <th>5007033</th>\n",
       "      <td>190006011946</td>\n",
       "      <td>5</td>\n",
       "    </tr>\n",
       "  </tbody>\n",
       "</table>\n",
       "</div>"
      ],
      "text/plain": [
       "         NU_INSCRICAO  NU_IDADE\n",
       "796441   190001801086         8\n",
       "868999   190001873646        12\n",
       "1521165  190002525820         3\n",
       "2298099  190003302763         7\n",
       "2298850  190003303514         4\n",
       "2315222  190003319886         8\n",
       "2631091  190003635760         8\n",
       "3198273  190004202963        12\n",
       "3221784  190004226475         7\n",
       "3268517  190004273209         5\n",
       "3757788  190004762487         7\n",
       "3901924  190004906627        12\n",
       "4142532  190005147246         8\n",
       "4152244  190005156959        12\n",
       "4346688  190005351413         8\n",
       "4796072  190005800827        12\n",
       "4836056  190005840961         6\n",
       "4841130  190005846035         2\n",
       "4844303  190005849208        12\n",
       "4873161  190005878068         8\n",
       "4998132  190006003044         6\n",
       "5007033  190006011946         5"
      ]
     },
     "execution_count": 21,
     "metadata": {},
     "output_type": "execute_result"
    }
   ],
   "source": [
    "# Verificando os alunos com idade menor 13\n",
    "df[['NU_INSCRICAO', 'NU_IDADE']][df['NU_IDADE'] < 13]"
   ]
  },
  {
   "cell_type": "code",
   "execution_count": 22,
   "metadata": {
    "hidden": true
   },
   "outputs": [
    {
     "data": {
      "text/plain": [
       "22"
      ]
     },
     "execution_count": 22,
     "metadata": {},
     "output_type": "execute_result"
    }
   ],
   "source": [
    "df['NU_IDADE'][df['NU_IDADE'] < 13].count()"
   ]
  },
  {
   "cell_type": "code",
   "execution_count": 23,
   "metadata": {
    "hidden": true
   },
   "outputs": [],
   "source": [
    "# Substituindo os valores\n",
    "df.loc[df.NU_IDADE < 13, 'NU_IDADE'] = 18"
   ]
  },
  {
   "cell_type": "code",
   "execution_count": 24,
   "metadata": {
    "hidden": true
   },
   "outputs": [
    {
     "data": {
      "text/plain": [
       "0"
      ]
     },
     "execution_count": 24,
     "metadata": {},
     "output_type": "execute_result"
    }
   ],
   "source": [
    "# Consultando qt. candidatos com idade < 13\n",
    "df['NU_IDADE'][df['NU_IDADE'] < 13].count()"
   ]
  },
  {
   "cell_type": "code",
   "execution_count": 25,
   "metadata": {
    "hidden": true
   },
   "outputs": [
    {
     "data": {
      "text/plain": [
       "13        29\n",
       "14       355\n",
       "15     11583\n",
       "16     59316\n",
       "17    219313\n",
       "       ...  \n",
       "80         2\n",
       "81         3\n",
       "82         2\n",
       "86         1\n",
       "91         1\n",
       "Name: NU_IDADE, Length: 72, dtype: int64"
      ]
     },
     "execution_count": 25,
     "metadata": {},
     "output_type": "execute_result"
    }
   ],
   "source": [
    "# Verificando se está correto I\n",
    "df['NU_IDADE'].value_counts().sort_index()"
   ]
  },
  {
   "cell_type": "markdown",
   "metadata": {
    "hidden": true
   },
   "source": [
    "### DEMAIS VARIÁVEIS"
   ]
  },
  {
   "cell_type": "code",
   "execution_count": 26,
   "metadata": {
    "hidden": true
   },
   "outputs": [],
   "source": [
    "# Lista das colunas que serão analistadas\n",
    "\n",
    "c = ['TP_SEXO', 'TP_ESTADO_CIVIL', 'TP_COR_RACA', 'TP_ANO_CONCLUIU', 'TP_ESCOLA', 'IN_TREINEIRO', 'IN_GESTANTE',\n",
    "     'IN_LACTANTE', 'IN_NOME_SOCIAL', 'TP_PRESENCA_CN', 'TP_PRESENCA_CH','TP_PRESENCA_LC', 'TP_PRESENCA_MT',\n",
    "     'TP_LINGUA', 'Q001', 'Q002', 'Q003','Q004', 'Q005', 'Q006','Q007', 'Q008', 'Q009', 'Q010', 'Q011', 'Q012', \n",
    "     'Q013', 'Q014', 'Q015','Q016', 'Q017', 'Q018', 'Q019', 'Q020', 'Q021', 'Q022', 'Q023', 'Q024', 'Q025']   "
   ]
  },
  {
   "cell_type": "code",
   "execution_count": 27,
   "metadata": {
    "hidden": true
   },
   "outputs": [
    {
     "name": "stdout",
     "output_type": "stream",
     "text": [
      "F    480164\n",
      "M    333608\n",
      "Name: TP_SEXO, dtype: int64\n",
      "0     27689\n",
      "1    721779\n",
      "2     49323\n",
      "3     14079\n",
      "4       902\n",
      "Name: TP_ESTADO_CIVIL, dtype: int64\n",
      "0     12517\n",
      "1    451336\n",
      "2     82700\n",
      "3    245222\n",
      "4     18768\n",
      "5      3229\n",
      "Name: TP_COR_RACA, dtype: int64\n",
      "0     402373\n",
      "1     105724\n",
      "2      68662\n",
      "3      46169\n",
      "4      33016\n",
      "5      25129\n",
      "6      19235\n",
      "7      16340\n",
      "8      12156\n",
      "9      10516\n",
      "10      9040\n",
      "11      7442\n",
      "12      6750\n",
      "13     51220\n",
      "Name: TP_ANO_CONCLUIU, dtype: int64\n",
      "1    523349\n",
      "2    230655\n",
      "3     59768\n",
      "Name: TP_ESCOLA, dtype: int64\n",
      "0    719781\n",
      "1     93991\n",
      "Name: IN_TREINEIRO, dtype: int64\n",
      "0    813654\n",
      "1       118\n",
      "Name: IN_GESTANTE, dtype: int64\n",
      "0    813513\n",
      "1       259\n",
      "Name: IN_LACTANTE, dtype: int64\n",
      "0    813681\n",
      "1        91\n",
      "Name: IN_NOME_SOCIAL, dtype: int64\n",
      "0    230859\n",
      "1    582605\n",
      "2       308\n",
      "Name: TP_PRESENCA_CN, dtype: int64\n",
      "0    192396\n",
      "1    620645\n",
      "2       731\n",
      "Name: TP_PRESENCA_CH, dtype: int64\n",
      "0    192396\n",
      "1    620645\n",
      "2       731\n",
      "Name: TP_PRESENCA_LC, dtype: int64\n",
      "0    230859\n",
      "1    582605\n",
      "2       308\n",
      "Name: TP_PRESENCA_MT, dtype: int64\n",
      "0    538503\n",
      "1    275269\n",
      "Name: TP_LINGUA, dtype: int64\n",
      "A     22370\n",
      "B    127731\n",
      "C    103946\n",
      "D    100088\n",
      "E    253737\n",
      "F     94535\n",
      "G     51560\n",
      "H     59805\n",
      "Name: Q001, dtype: int64\n",
      "A     17640\n",
      "B     98786\n",
      "C     94041\n",
      "D    106979\n",
      "E    293563\n",
      "F    117429\n",
      "G     68395\n",
      "H     16939\n",
      "Name: Q002, dtype: int64\n",
      "A     63150\n",
      "B    170916\n",
      "C    242441\n",
      "D    175180\n",
      "E     68563\n",
      "F     93522\n",
      "Name: Q003, dtype: int64\n",
      "A     44747\n",
      "B    378869\n",
      "C     72043\n",
      "D    194433\n",
      "E     47461\n",
      "F     76219\n",
      "Name: Q004, dtype: int64\n",
      "1      21616\n",
      "2     104938\n",
      "3     224206\n",
      "4     278581\n",
      "5     122115\n",
      "6      39583\n",
      "7      13821\n",
      "8       5204\n",
      "9       1849\n",
      "10       991\n",
      "11       324\n",
      "12       172\n",
      "13        95\n",
      "14        65\n",
      "15        42\n",
      "16        22\n",
      "17        18\n",
      "18        18\n",
      "19        16\n",
      "20        96\n",
      "Name: Q005, dtype: int64\n",
      "A     15621\n",
      "B     78354\n",
      "C    185879\n",
      "D     97932\n",
      "E    106606\n",
      "F     53915\n",
      "G     77112\n",
      "H     48689\n",
      "I     36600\n",
      "J     20006\n",
      "K     14465\n",
      "L     10864\n",
      "M     11026\n",
      "N     16117\n",
      "O     12833\n",
      "P     11361\n",
      "Q     16392\n",
      "Name: Q006, dtype: int64\n",
      "A    732632\n",
      "B     46654\n",
      "C      9047\n",
      "D     25439\n",
      "Name: Q007, dtype: int64\n",
      "A      2656\n",
      "B    495369\n",
      "C    204088\n",
      "D     68897\n",
      "E     42762\n",
      "Name: Q008, dtype: int64\n",
      "A      5133\n",
      "B    127722\n",
      "C    399922\n",
      "D    243292\n",
      "E     37703\n",
      "Name: Q009, dtype: int64\n",
      "A    297086\n",
      "B    387677\n",
      "C    110286\n",
      "D     15382\n",
      "E      3341\n",
      "Name: Q010, dtype: int64\n",
      "A    684409\n",
      "B    114736\n",
      "C     12790\n",
      "D      1507\n",
      "E       330\n",
      "Name: Q011, dtype: int64\n",
      "A      6359\n",
      "B    747978\n",
      "C     54571\n",
      "D      4101\n",
      "E       763\n",
      "Name: Q012, dtype: int64\n",
      "A    344212\n",
      "B    434353\n",
      "C     31223\n",
      "D      3332\n",
      "E       652\n",
      "Name: Q013, dtype: int64\n",
      "A    129416\n",
      "B    672607\n",
      "C     11250\n",
      "D       408\n",
      "E        91\n",
      "Name: Q014, dtype: int64\n",
      "A    670409\n",
      "B    141819\n",
      "C      1406\n",
      "D        86\n",
      "E        52\n",
      "Name: Q015, dtype: int64\n",
      "A    192185\n",
      "B    613356\n",
      "C      7818\n",
      "D       325\n",
      "E        88\n",
      "Name: Q016, dtype: int64\n",
      "A    771927\n",
      "B     41163\n",
      "C       552\n",
      "D        75\n",
      "E        55\n",
      "Name: Q017, dtype: int64\n",
      "A    494630\n",
      "B    319142\n",
      "Name: Q018, dtype: int64\n",
      "A     27466\n",
      "B    458064\n",
      "C    213899\n",
      "D     78178\n",
      "E     36165\n",
      "Name: Q019, dtype: int64\n",
      "A    495755\n",
      "B    318017\n",
      "Name: Q020, dtype: int64\n",
      "A    524396\n",
      "B    289376\n",
      "Name: Q021, dtype: int64\n",
      "A     11433\n",
      "B    111784\n",
      "C    210901\n",
      "D    266908\n",
      "E    212746\n",
      "Name: Q022, dtype: int64\n",
      "A    444438\n",
      "B    369334\n",
      "Name: Q023, dtype: int64\n",
      "A    245572\n",
      "B    430144\n",
      "C     93991\n",
      "D     30222\n",
      "E     13843\n",
      "Name: Q024, dtype: int64\n",
      "A     83930\n",
      "B    729842\n",
      "Name: Q025, dtype: int64\n"
     ]
    }
   ],
   "source": [
    "# Função para analisar todas as colunas da variável c\n",
    "\n",
    "def funcao_value_counts():\n",
    "    for d in df[c]:\n",
    "        print(df[d].value_counts().sort_index())\n",
    "        \n",
    "funcao_value_counts()"
   ]
  },
  {
   "cell_type": "markdown",
   "metadata": {},
   "source": [
    "## ANÁLISES - ESTATÍSTICA DESCRITIVA"
   ]
  },
  {
   "cell_type": "markdown",
   "metadata": {
    "heading_collapsed": true
   },
   "source": [
    "### CARACTERÍSTICAS DOS CANDIDATOS"
   ]
  },
  {
   "cell_type": "markdown",
   "metadata": {
    "hidden": true
   },
   "source": [
    "        Para ter uma visão geral dos dados, será tirada a média de todas as notas somente\n",
    "        dos alunos presentes, sem considerar a nota de redação.\n",
    "        \n",
    "        A nota de redação será analisada a parte"
   ]
  },
  {
   "cell_type": "code",
   "execution_count": 87,
   "metadata": {
    "hidden": true
   },
   "outputs": [
    {
     "data": {
      "text/html": [
       "<div>\n",
       "<style scoped>\n",
       "    .dataframe tbody tr th:only-of-type {\n",
       "        vertical-align: middle;\n",
       "    }\n",
       "\n",
       "    .dataframe tbody tr th {\n",
       "        vertical-align: top;\n",
       "    }\n",
       "\n",
       "    .dataframe thead th {\n",
       "        text-align: right;\n",
       "    }\n",
       "</style>\n",
       "<table border=\"1\" class=\"dataframe\">\n",
       "  <thead>\n",
       "    <tr style=\"text-align: right;\">\n",
       "      <th></th>\n",
       "      <th>count</th>\n",
       "      <th>mean</th>\n",
       "      <th>std</th>\n",
       "      <th>min</th>\n",
       "      <th>25%</th>\n",
       "      <th>50%</th>\n",
       "      <th>75%</th>\n",
       "      <th>max</th>\n",
       "    </tr>\n",
       "  </thead>\n",
       "  <tbody>\n",
       "    <tr>\n",
       "      <th>NU_INSCRICAO</th>\n",
       "      <td>813772.0</td>\n",
       "      <td>1.900037e+11</td>\n",
       "      <td>1370714.76</td>\n",
       "      <td>1.900010e+11</td>\n",
       "      <td>1.900024e+11</td>\n",
       "      <td>1.900037e+11</td>\n",
       "      <td>1.900048e+11</td>\n",
       "      <td>1.900061e+11</td>\n",
       "    </tr>\n",
       "    <tr>\n",
       "      <th>NU_IDADE</th>\n",
       "      <td>813772.0</td>\n",
       "      <td>2.091000e+01</td>\n",
       "      <td>6.90</td>\n",
       "      <td>1.300000e+01</td>\n",
       "      <td>1.700000e+01</td>\n",
       "      <td>1.800000e+01</td>\n",
       "      <td>2.200000e+01</td>\n",
       "      <td>9.100000e+01</td>\n",
       "    </tr>\n",
       "    <tr>\n",
       "      <th>TP_ESTADO_CIVIL</th>\n",
       "      <td>813772.0</td>\n",
       "      <td>1.060000e+00</td>\n",
       "      <td>0.41</td>\n",
       "      <td>0.000000e+00</td>\n",
       "      <td>1.000000e+00</td>\n",
       "      <td>1.000000e+00</td>\n",
       "      <td>1.000000e+00</td>\n",
       "      <td>4.000000e+00</td>\n",
       "    </tr>\n",
       "    <tr>\n",
       "      <th>TP_COR_RACA</th>\n",
       "      <td>813772.0</td>\n",
       "      <td>1.770000e+00</td>\n",
       "      <td>1.00</td>\n",
       "      <td>0.000000e+00</td>\n",
       "      <td>1.000000e+00</td>\n",
       "      <td>1.000000e+00</td>\n",
       "      <td>3.000000e+00</td>\n",
       "      <td>5.000000e+00</td>\n",
       "    </tr>\n",
       "    <tr>\n",
       "      <th>TP_ANO_CONCLUIU</th>\n",
       "      <td>813772.0</td>\n",
       "      <td>2.430000e+00</td>\n",
       "      <td>3.79</td>\n",
       "      <td>0.000000e+00</td>\n",
       "      <td>0.000000e+00</td>\n",
       "      <td>1.000000e+00</td>\n",
       "      <td>3.000000e+00</td>\n",
       "      <td>1.300000e+01</td>\n",
       "    </tr>\n",
       "    <tr>\n",
       "      <th>TP_ESCOLA</th>\n",
       "      <td>813772.0</td>\n",
       "      <td>1.430000e+00</td>\n",
       "      <td>0.63</td>\n",
       "      <td>1.000000e+00</td>\n",
       "      <td>1.000000e+00</td>\n",
       "      <td>1.000000e+00</td>\n",
       "      <td>2.000000e+00</td>\n",
       "      <td>3.000000e+00</td>\n",
       "    </tr>\n",
       "    <tr>\n",
       "      <th>IN_TREINEIRO</th>\n",
       "      <td>813772.0</td>\n",
       "      <td>1.200000e-01</td>\n",
       "      <td>0.32</td>\n",
       "      <td>0.000000e+00</td>\n",
       "      <td>0.000000e+00</td>\n",
       "      <td>0.000000e+00</td>\n",
       "      <td>0.000000e+00</td>\n",
       "      <td>1.000000e+00</td>\n",
       "    </tr>\n",
       "    <tr>\n",
       "      <th>IN_GESTANTE</th>\n",
       "      <td>813772.0</td>\n",
       "      <td>0.000000e+00</td>\n",
       "      <td>0.01</td>\n",
       "      <td>0.000000e+00</td>\n",
       "      <td>0.000000e+00</td>\n",
       "      <td>0.000000e+00</td>\n",
       "      <td>0.000000e+00</td>\n",
       "      <td>1.000000e+00</td>\n",
       "    </tr>\n",
       "    <tr>\n",
       "      <th>IN_LACTANTE</th>\n",
       "      <td>813772.0</td>\n",
       "      <td>0.000000e+00</td>\n",
       "      <td>0.02</td>\n",
       "      <td>0.000000e+00</td>\n",
       "      <td>0.000000e+00</td>\n",
       "      <td>0.000000e+00</td>\n",
       "      <td>0.000000e+00</td>\n",
       "      <td>1.000000e+00</td>\n",
       "    </tr>\n",
       "    <tr>\n",
       "      <th>IN_NOME_SOCIAL</th>\n",
       "      <td>813772.0</td>\n",
       "      <td>0.000000e+00</td>\n",
       "      <td>0.01</td>\n",
       "      <td>0.000000e+00</td>\n",
       "      <td>0.000000e+00</td>\n",
       "      <td>0.000000e+00</td>\n",
       "      <td>0.000000e+00</td>\n",
       "      <td>1.000000e+00</td>\n",
       "    </tr>\n",
       "    <tr>\n",
       "      <th>TP_PRESENCA_CN</th>\n",
       "      <td>813772.0</td>\n",
       "      <td>7.200000e-01</td>\n",
       "      <td>0.45</td>\n",
       "      <td>0.000000e+00</td>\n",
       "      <td>0.000000e+00</td>\n",
       "      <td>1.000000e+00</td>\n",
       "      <td>1.000000e+00</td>\n",
       "      <td>2.000000e+00</td>\n",
       "    </tr>\n",
       "    <tr>\n",
       "      <th>TP_PRESENCA_CH</th>\n",
       "      <td>813772.0</td>\n",
       "      <td>7.600000e-01</td>\n",
       "      <td>0.43</td>\n",
       "      <td>0.000000e+00</td>\n",
       "      <td>1.000000e+00</td>\n",
       "      <td>1.000000e+00</td>\n",
       "      <td>1.000000e+00</td>\n",
       "      <td>2.000000e+00</td>\n",
       "    </tr>\n",
       "    <tr>\n",
       "      <th>TP_PRESENCA_LC</th>\n",
       "      <td>813772.0</td>\n",
       "      <td>7.600000e-01</td>\n",
       "      <td>0.43</td>\n",
       "      <td>0.000000e+00</td>\n",
       "      <td>1.000000e+00</td>\n",
       "      <td>1.000000e+00</td>\n",
       "      <td>1.000000e+00</td>\n",
       "      <td>2.000000e+00</td>\n",
       "    </tr>\n",
       "    <tr>\n",
       "      <th>TP_PRESENCA_MT</th>\n",
       "      <td>813772.0</td>\n",
       "      <td>7.200000e-01</td>\n",
       "      <td>0.45</td>\n",
       "      <td>0.000000e+00</td>\n",
       "      <td>0.000000e+00</td>\n",
       "      <td>1.000000e+00</td>\n",
       "      <td>1.000000e+00</td>\n",
       "      <td>2.000000e+00</td>\n",
       "    </tr>\n",
       "    <tr>\n",
       "      <th>NU_NOTA_CN</th>\n",
       "      <td>582605.0</td>\n",
       "      <td>4.970000e+02</td>\n",
       "      <td>77.81</td>\n",
       "      <td>0.000000e+00</td>\n",
       "      <td>4.359000e+02</td>\n",
       "      <td>4.956000e+02</td>\n",
       "      <td>5.545000e+02</td>\n",
       "      <td>8.609000e+02</td>\n",
       "    </tr>\n",
       "    <tr>\n",
       "      <th>TP_ST_CONCLUSAO</th>\n",
       "      <td>813772.0</td>\n",
       "      <td>1.600000e+00</td>\n",
       "      <td>0.70</td>\n",
       "      <td>1.000000e+00</td>\n",
       "      <td>1.000000e+00</td>\n",
       "      <td>1.000000e+00</td>\n",
       "      <td>2.000000e+00</td>\n",
       "      <td>4.000000e+00</td>\n",
       "    </tr>\n",
       "    <tr>\n",
       "      <th>NU_NOTA_CH</th>\n",
       "      <td>620645.0</td>\n",
       "      <td>5.277900e+02</td>\n",
       "      <td>79.98</td>\n",
       "      <td>0.000000e+00</td>\n",
       "      <td>4.756000e+02</td>\n",
       "      <td>5.339000e+02</td>\n",
       "      <td>5.828000e+02</td>\n",
       "      <td>8.227000e+02</td>\n",
       "    </tr>\n",
       "    <tr>\n",
       "      <th>NU_NOTA_LC</th>\n",
       "      <td>620645.0</td>\n",
       "      <td>5.399000e+02</td>\n",
       "      <td>58.98</td>\n",
       "      <td>0.000000e+00</td>\n",
       "      <td>5.080000e+02</td>\n",
       "      <td>5.461000e+02</td>\n",
       "      <td>5.795000e+02</td>\n",
       "      <td>8.017000e+02</td>\n",
       "    </tr>\n",
       "    <tr>\n",
       "      <th>NU_NOTA_MT</th>\n",
       "      <td>582605.0</td>\n",
       "      <td>5.515600e+02</td>\n",
       "      <td>114.08</td>\n",
       "      <td>0.000000e+00</td>\n",
       "      <td>4.566000e+02</td>\n",
       "      <td>5.397000e+02</td>\n",
       "      <td>6.350000e+02</td>\n",
       "      <td>9.855000e+02</td>\n",
       "    </tr>\n",
       "    <tr>\n",
       "      <th>TP_LINGUA</th>\n",
       "      <td>813772.0</td>\n",
       "      <td>3.400000e-01</td>\n",
       "      <td>0.47</td>\n",
       "      <td>0.000000e+00</td>\n",
       "      <td>0.000000e+00</td>\n",
       "      <td>0.000000e+00</td>\n",
       "      <td>1.000000e+00</td>\n",
       "      <td>1.000000e+00</td>\n",
       "    </tr>\n",
       "    <tr>\n",
       "      <th>TP_STATUS_REDACAO</th>\n",
       "      <td>620645.0</td>\n",
       "      <td>1.090000e+00</td>\n",
       "      <td>0.65</td>\n",
       "      <td>1.000000e+00</td>\n",
       "      <td>1.000000e+00</td>\n",
       "      <td>1.000000e+00</td>\n",
       "      <td>1.000000e+00</td>\n",
       "      <td>9.000000e+00</td>\n",
       "    </tr>\n",
       "    <tr>\n",
       "      <th>NU_NOTA_REDACAO</th>\n",
       "      <td>620645.0</td>\n",
       "      <td>5.874900e+02</td>\n",
       "      <td>174.42</td>\n",
       "      <td>0.000000e+00</td>\n",
       "      <td>5.000000e+02</td>\n",
       "      <td>6.000000e+02</td>\n",
       "      <td>6.800000e+02</td>\n",
       "      <td>1.000000e+03</td>\n",
       "    </tr>\n",
       "    <tr>\n",
       "      <th>Q005</th>\n",
       "      <td>813772.0</td>\n",
       "      <td>3.740000e+00</td>\n",
       "      <td>1.33</td>\n",
       "      <td>1.000000e+00</td>\n",
       "      <td>3.000000e+00</td>\n",
       "      <td>4.000000e+00</td>\n",
       "      <td>4.000000e+00</td>\n",
       "      <td>2.000000e+01</td>\n",
       "    </tr>\n",
       "  </tbody>\n",
       "</table>\n",
       "</div>"
      ],
      "text/plain": [
       "                      count          mean         std           min  \\\n",
       "NU_INSCRICAO       813772.0  1.900037e+11  1370714.76  1.900010e+11   \n",
       "NU_IDADE           813772.0  2.091000e+01        6.90  1.300000e+01   \n",
       "TP_ESTADO_CIVIL    813772.0  1.060000e+00        0.41  0.000000e+00   \n",
       "TP_COR_RACA        813772.0  1.770000e+00        1.00  0.000000e+00   \n",
       "TP_ANO_CONCLUIU    813772.0  2.430000e+00        3.79  0.000000e+00   \n",
       "TP_ESCOLA          813772.0  1.430000e+00        0.63  1.000000e+00   \n",
       "IN_TREINEIRO       813772.0  1.200000e-01        0.32  0.000000e+00   \n",
       "IN_GESTANTE        813772.0  0.000000e+00        0.01  0.000000e+00   \n",
       "IN_LACTANTE        813772.0  0.000000e+00        0.02  0.000000e+00   \n",
       "IN_NOME_SOCIAL     813772.0  0.000000e+00        0.01  0.000000e+00   \n",
       "TP_PRESENCA_CN     813772.0  7.200000e-01        0.45  0.000000e+00   \n",
       "TP_PRESENCA_CH     813772.0  7.600000e-01        0.43  0.000000e+00   \n",
       "TP_PRESENCA_LC     813772.0  7.600000e-01        0.43  0.000000e+00   \n",
       "TP_PRESENCA_MT     813772.0  7.200000e-01        0.45  0.000000e+00   \n",
       "NU_NOTA_CN         582605.0  4.970000e+02       77.81  0.000000e+00   \n",
       "TP_ST_CONCLUSAO    813772.0  1.600000e+00        0.70  1.000000e+00   \n",
       "NU_NOTA_CH         620645.0  5.277900e+02       79.98  0.000000e+00   \n",
       "NU_NOTA_LC         620645.0  5.399000e+02       58.98  0.000000e+00   \n",
       "NU_NOTA_MT         582605.0  5.515600e+02      114.08  0.000000e+00   \n",
       "TP_LINGUA          813772.0  3.400000e-01        0.47  0.000000e+00   \n",
       "TP_STATUS_REDACAO  620645.0  1.090000e+00        0.65  1.000000e+00   \n",
       "NU_NOTA_REDACAO    620645.0  5.874900e+02      174.42  0.000000e+00   \n",
       "Q005               813772.0  3.740000e+00        1.33  1.000000e+00   \n",
       "\n",
       "                            25%           50%           75%           max  \n",
       "NU_INSCRICAO       1.900024e+11  1.900037e+11  1.900048e+11  1.900061e+11  \n",
       "NU_IDADE           1.700000e+01  1.800000e+01  2.200000e+01  9.100000e+01  \n",
       "TP_ESTADO_CIVIL    1.000000e+00  1.000000e+00  1.000000e+00  4.000000e+00  \n",
       "TP_COR_RACA        1.000000e+00  1.000000e+00  3.000000e+00  5.000000e+00  \n",
       "TP_ANO_CONCLUIU    0.000000e+00  1.000000e+00  3.000000e+00  1.300000e+01  \n",
       "TP_ESCOLA          1.000000e+00  1.000000e+00  2.000000e+00  3.000000e+00  \n",
       "IN_TREINEIRO       0.000000e+00  0.000000e+00  0.000000e+00  1.000000e+00  \n",
       "IN_GESTANTE        0.000000e+00  0.000000e+00  0.000000e+00  1.000000e+00  \n",
       "IN_LACTANTE        0.000000e+00  0.000000e+00  0.000000e+00  1.000000e+00  \n",
       "IN_NOME_SOCIAL     0.000000e+00  0.000000e+00  0.000000e+00  1.000000e+00  \n",
       "TP_PRESENCA_CN     0.000000e+00  1.000000e+00  1.000000e+00  2.000000e+00  \n",
       "TP_PRESENCA_CH     1.000000e+00  1.000000e+00  1.000000e+00  2.000000e+00  \n",
       "TP_PRESENCA_LC     1.000000e+00  1.000000e+00  1.000000e+00  2.000000e+00  \n",
       "TP_PRESENCA_MT     0.000000e+00  1.000000e+00  1.000000e+00  2.000000e+00  \n",
       "NU_NOTA_CN         4.359000e+02  4.956000e+02  5.545000e+02  8.609000e+02  \n",
       "TP_ST_CONCLUSAO    1.000000e+00  1.000000e+00  2.000000e+00  4.000000e+00  \n",
       "NU_NOTA_CH         4.756000e+02  5.339000e+02  5.828000e+02  8.227000e+02  \n",
       "NU_NOTA_LC         5.080000e+02  5.461000e+02  5.795000e+02  8.017000e+02  \n",
       "NU_NOTA_MT         4.566000e+02  5.397000e+02  6.350000e+02  9.855000e+02  \n",
       "TP_LINGUA          0.000000e+00  0.000000e+00  1.000000e+00  1.000000e+00  \n",
       "TP_STATUS_REDACAO  1.000000e+00  1.000000e+00  1.000000e+00  9.000000e+00  \n",
       "NU_NOTA_REDACAO    5.000000e+02  6.000000e+02  6.800000e+02  1.000000e+03  \n",
       "Q005               3.000000e+00  4.000000e+00  4.000000e+00  2.000000e+01  "
      ]
     },
     "execution_count": 87,
     "metadata": {},
     "output_type": "execute_result"
    }
   ],
   "source": [
    "# Visualização geral das informaçoes\n",
    "df.describe().round(2).T"
   ]
  },
  {
   "cell_type": "code",
   "execution_count": 28,
   "metadata": {
    "hidden": true
   },
   "outputs": [
    {
     "data": {
      "text/html": [
       "<div>\n",
       "<style scoped>\n",
       "    .dataframe tbody tr th:only-of-type {\n",
       "        vertical-align: middle;\n",
       "    }\n",
       "\n",
       "    .dataframe tbody tr th {\n",
       "        vertical-align: top;\n",
       "    }\n",
       "\n",
       "    .dataframe thead th {\n",
       "        text-align: right;\n",
       "    }\n",
       "</style>\n",
       "<table border=\"1\" class=\"dataframe\">\n",
       "  <thead>\n",
       "    <tr style=\"text-align: right;\">\n",
       "      <th></th>\n",
       "      <th>NU_NOTA_CN</th>\n",
       "    </tr>\n",
       "    <tr>\n",
       "      <th>TP_PRESENCA_CN</th>\n",
       "      <th></th>\n",
       "    </tr>\n",
       "  </thead>\n",
       "  <tbody>\n",
       "    <tr>\n",
       "      <th>0</th>\n",
       "      <td>0.000000e+00</td>\n",
       "    </tr>\n",
       "    <tr>\n",
       "      <th>1</th>\n",
       "      <td>2.895524e+08</td>\n",
       "    </tr>\n",
       "    <tr>\n",
       "      <th>2</th>\n",
       "      <td>0.000000e+00</td>\n",
       "    </tr>\n",
       "  </tbody>\n",
       "</table>\n",
       "</div>"
      ],
      "text/plain": [
       "                  NU_NOTA_CN\n",
       "TP_PRESENCA_CN              \n",
       "0               0.000000e+00\n",
       "1               2.895524e+08\n",
       "2               0.000000e+00"
      ]
     },
     "execution_count": 28,
     "metadata": {},
     "output_type": "execute_result"
    }
   ],
   "source": [
    "# Selecionando as colunas de presenca e nota, agrupando pela presenca e somando a nota\n",
    "df[['TP_PRESENCA_CN', 'NU_NOTA_CN']].groupby('TP_PRESENCA_CN').sum() #quem é eliminado, zera a prova"
   ]
  },
  {
   "cell_type": "markdown",
   "metadata": {
    "heading_collapsed": true
   },
   "source": [
    "### PRESENÇA NAS PROVAS"
   ]
  },
  {
   "cell_type": "code",
   "execution_count": 29,
   "metadata": {
    "hidden": true
   },
   "outputs": [
    {
     "data": {
      "image/png": "[encoded data removed]",
      "text/plain": [
       "<Figure size 1440x1800 with 2 Axes>"
      ]
     },
     "metadata": {
      "needs_background": "light"
     },
     "output_type": "display_data"
    }
   ],
   "source": [
    "plt.figure(figsize=(20, 25))\n",
    "#plt.subplots_adjust(hspace = 0.40)\n",
    "\n",
    "ax2 = plt.subplot(4, 2, 2)\n",
    "ax2 = sns.countplot(x = 'TP_PRESENCA_CH',data = df,\n",
    "                    palette = 'crest', hue = 'TP_PRESENCA_CH',\n",
    "                   dodge = False)\n",
    "\n",
    "ax2 = plt.title('QTDADE. CANDIDATOS PRESENTES - CIÊNCIAS HUMANAS E LING. E CÓDIGOS',\n",
    "               pad = 20,\n",
    "         fontsize = 13, color ='dimgrey', fontweight = 'bold')\n",
    "\n",
    "ax2 = sns.despine(bottom = True, left=True)\n",
    "ax2 = plt.xlabel('PRESENÇA NA PROVA', color = 'grey', labelpad = 20, fontsize = 8)\n",
    "ax2 = plt.ylabel('QUANTIDADE DE CANDIDATOS', color = 'grey', labelpad = 20, fontsize = 8)\n",
    "ax2 = plt.legend(labels=['Faltou', 'Presente', 'Eliminado'])\n",
    "ax2 = plt.legend(loc=2, labels=['Faltou', 'Presente', 'Eliminado'])\n",
    "\n",
    "\n",
    "#####\n",
    "\n",
    "ax1 = plt.subplot(4, 2, 1)\n",
    "ax1 = sns.countplot(x = 'TP_PRESENCA_CN',data = df,\n",
    "                    palette = 'crest', hue = 'TP_PRESENCA_CN',\n",
    "                   dodge = False)\n",
    "\n",
    "ax1 = plt.title('QTDADE. CANDIDATOS PRESENTES - CIÊNCIAS DA NATUREZA E MATEMÁTICA',\n",
    "               pad = 20,\n",
    "         fontsize = 13, color ='dimgrey', fontweight = 'bold')\n",
    "\n",
    "ax1 = sns.despine(bottom = True, left=True)\n",
    "ax1 = plt.xlabel('PRESENÇA NA PROVA', color = 'grey', labelpad = 20, fontsize = 8)\n",
    "ax1 = plt.ylabel('QUANTIDADE DE CANDIDATOS', color = 'grey', labelpad = 20, fontsize = 8)\n",
    "ax1 = plt.legend(labels=['Faltou', 'Presente', 'Eliminado'])\n",
    "\n",
    "\n",
    "###################\n",
    "\n",
    "\n"
   ]
  },
  {
   "cell_type": "markdown",
   "metadata": {
    "hidden": true
   },
   "source": [
    "    \n",
    "    \n",
    "**OBS**:\n",
    "\n",
    "    1 - As provas ciencias da natureza e matematica são aplcadas no mesmo dia\n",
    "    2 - As provas ciencias humanas e linguagens e codigos foram aplicadas no mesmo dia\n",
    "\n",
    "    Conforme consultado no G1, as provas do ENEM 2019 foram aplicadas na ordem:\n",
    "    3 - Linguagens e codigos, ciencias humanas e redacao\n",
    "    4 - C. Natureza e matematica\n",
    "    \n",
    "    \n",
    "**Algumas Conclusões** \n",
    "\n",
    "    1 - Os candidatos tendem a faltar no primeiro dia de prova\n",
    "    2 - Os candidatos costuam ser eliminados com maior frequencia no segundo dia de prova"
   ]
  },
  {
   "cell_type": "markdown",
   "metadata": {
    "heading_collapsed": true
   },
   "source": [
    "### IDADE x SEXO"
   ]
  },
  {
   "cell_type": "code",
   "execution_count": 30,
   "metadata": {
    "hidden": true
   },
   "outputs": [
    {
     "data": {
      "image/png": "[encoded data removed]",
      "text/plain": [
       "<Figure size 1440x1080 with 2 Axes>"
      ]
     },
     "metadata": {
      "needs_background": "light"
     },
     "output_type": "display_data"
    }
   ],
   "source": [
    "plt.figure(figsize=(20, 15))\n",
    "s1 = plt.subplot(2, 2, 1)\n",
    "\n",
    "s1 = sns.countplot(x = 'TP_SEXO', data = df,\n",
    "                    palette = 'crest', hue = 'TP_SEXO', dodge = False\n",
    "                   )\n",
    "s1 = plt.title('QTDADE. DE CANDIDATOS POR SEXO',\n",
    "               pad = 20,\n",
    "         fontsize = 13, color ='dimgrey', fontweight = 'bold')\n",
    "\n",
    "s1 = sns.despine(bottom = True, left=True)\n",
    "s1 = plt.xlabel('GÊNERO', color = 'grey', labelpad = 20, fontsize = 8)\n",
    "s1 = plt.ylabel('QUANTIDADE DE CANDIDATOS', color = 'grey', labelpad = 20, fontsize = 8)\n",
    "s1 = plt.legend(loc=2, labels=['M', 'F'])\n",
    "\n",
    "\n",
    "##############\n",
    "\n",
    "s2 = plt.subplot(2, 2, 2)\n",
    "\n",
    "sns.histplot(df[df['TP_SEXO'] == 'F']['NU_IDADE'], bins = 20, label = 'F', element = 'step',\n",
    "             color = '#da8b40')\n",
    "sns.histplot(df[df['TP_SEXO'] == 'M']['NU_IDADE'], bins = 20, label = 'M', element = 'step',\n",
    "             color = '#257ca0')\n",
    "\n",
    "\n",
    "s2 = plt.title('HISTOGRAMA DE CANDIDATOS POR SEXO x IDADE',\n",
    "               pad = 20,\n",
    "         fontsize = 13, color ='dimgrey', fontweight = 'bold')\n",
    "\n",
    "s2 = sns.despine(bottom = True, left=True)\n",
    "s2 = plt.xlabel('IDADE', color = 'grey', labelpad = 20, fontsize = 8)\n",
    "s2 = plt.ylabel('QUANTIDADE DE CANDIDATOS', color = 'grey', labelpad = 20, fontsize = 8)\n",
    "s2 = plt.legend()\n"
   ]
  },
  {
   "cell_type": "markdown",
   "metadata": {
    "hidden": true
   },
   "source": [
    "    \n",
    "**Algumas Conclusões** \n",
    "\n",
    "    1 - Há maior quantidade de mulheres realizando as provas\n",
    "    2 - Há maior concentração de mulheres entre 20 - 25 anos quando comparado aos homens\n",
    "    3 - APARENTEMENTE, há maior concentração de mulheres até 55 anos realizando a prova. Após essa idade,\n",
    "    há maior quantidade de homens"
   ]
  },
  {
   "cell_type": "markdown",
   "metadata": {
    "heading_collapsed": true
   },
   "source": [
    "### ENSINO MÉDIO"
   ]
  },
  {
   "cell_type": "code",
   "execution_count": 59,
   "metadata": {
    "hidden": true
   },
   "outputs": [
    {
     "data": {
      "image/png": "[encoded data removed]",
      "text/plain": [
       "<Figure size 1800x1440 with 2 Axes>"
      ]
     },
     "metadata": {
      "needs_background": "light"
     },
     "output_type": "display_data"
    },
    {
     "data": {
      "image/png": "[encoded data removed]",
      "text/plain": [
       "<Figure size 1440x1080 with 2 Axes>"
      ]
     },
     "metadata": {
      "needs_background": "light"
     },
     "output_type": "display_data"
    }
   ],
   "source": [
    "plt.figure(figsize=(25, 20))\n",
    "s1 = plt.subplot(2, 2, 1)\n",
    "\n",
    "s1 = sns.countplot(x = 'TP_ANO_CONCLUIU', data = df,\n",
    "                    palette = 'crest', hue = 'TP_ANO_CONCLUIU', dodge = False\n",
    "                   )\n",
    "s1 = plt.title('QT. CANDIDATOS POR ANO POR ANO DE ENSINO MÉDIO',\n",
    "               pad = 20,\n",
    "         fontsize = 13, color ='dimgrey', fontweight = 'bold')\n",
    "\n",
    "s1 = sns.despine(bottom = True, left=True)\n",
    "s1 = plt.xlabel('ANO DE CONCLUSÃO', color = 'grey', labelpad = 20, fontsize = 8)\n",
    "s1 = plt.ylabel('QUANTIDADE', color = 'grey', labelpad = 20, fontsize = 8)\n",
    "s1 = plt.legend(loc=1, labels=['Não informado','2018','2017','2016','2015','2014','2013',\n",
    "                               '2012','2011','2010','2009','2008','2007','Antes de 2007'])\n",
    "\n",
    "##################################################\n",
    "\n",
    "concluido = df[df['TP_ST_CONCLUSAO'] == 1]\n",
    "concluido\n",
    "\n",
    "\n",
    "## Somente candidatos que concluíram o ensino médio\n",
    "\n",
    "s2 = plt.subplot(2, 2, 2)\n",
    "\n",
    "s2 = sns.countplot(x = 'TP_ANO_CONCLUIU', data = concluido,\n",
    "                    palette = 'crest', hue = 'TP_ANO_CONCLUIU', dodge = False)\n",
    "\n",
    "\n",
    "s2 = plt.title('QT. CANDIDATOS POR ANO DE CONCLUSÃO DO ENSINO MÉDIO',\n",
    "               pad = 20,\n",
    "         fontsize = 13, color ='dimgrey', fontweight = 'bold')\n",
    "\n",
    "s2 = sns.despine(bottom = True, left=True)\n",
    "s2 = plt.xlabel('xxxxxxxx', color = 'grey', labelpad = 20, fontsize = 8)\n",
    "s2 = plt.ylabel('xxxxxxxx', color = 'grey', labelpad = 20, fontsize = 8)\n",
    "s2 = plt.legend(loc=1, labels=['Não informado','2018','2017','2016','2015','2014','2013',\n",
    "                               '2012','2011','2010','2009','2008','2007','Antes de 2007'])\n",
    "\n",
    "\n",
    "##################################################\n",
    "\n",
    "plt.figure(figsize=(20, 15))\n",
    "s3 = plt.subplot(2, 2, 3)\n",
    "\n",
    "s3 = sns.countplot(x = 'TP_ESCOLA', data = df,\n",
    "                    palette = 'crest', hue = 'TP_ESCOLA', dodge = False\n",
    "                   )\n",
    "s3 = plt.title('TIPO DE ESCOLA - ENSINO MÉDIO',\n",
    "               pad = 20,\n",
    "         fontsize = 13, color ='dimgrey', fontweight = 'bold')\n",
    "\n",
    "s3 = sns.despine(bottom = True, left=True)\n",
    "s3 = plt.xlabel('TIPO_ESCOLA', color = 'grey', labelpad = 20, fontsize = 8)\n",
    "s3 = plt.ylabel('QT. DE ALUNOS', color = 'grey', labelpad = 20, fontsize = 8)\n",
    "s3 = plt.legend(loc=1, labels=['Não informado', 'Publico', 'Privado'])\n",
    "\n",
    "\n",
    "##################################################\n",
    "\n",
    "concluido = df[df['TP_ST_CONCLUSAO'] == 1]\n",
    "concluido\n",
    "\n",
    "\n",
    "## Somente candidatos que concluíram o ensino médio\n",
    "\n",
    "s4 = plt.subplot(2, 2, 4)\n",
    "\n",
    "s4 = sns.countplot(x = 'TP_ESCOLA', data = concluido,\n",
    "                    palette = 'crest', hue = 'TP_ESCOLA', dodge = False)\n",
    "\n",
    "\n",
    "s4 = plt.title('TIPO ESCOLA CURSADA PELO CANDIDATO FORMADO NO ENSINO MÉDIO',\n",
    "               pad = 20,\n",
    "         fontsize = 13, color ='dimgrey', fontweight = 'bold')\n",
    "\n",
    "s4 = sns.despine(bottom = True, left=True)\n",
    "s4 = plt.xlabel('xxxxxxxx', color = 'grey', labelpad = 20, fontsize = 8)\n",
    "s4 = plt.ylabel('xxxxxxxx', color = 'grey', labelpad = 20, fontsize = 8)\n",
    "plt.legend(labels=['Não informado', 'Publico', 'Privado'])\n",
    "\n",
    "s4 = s4"
   ]
  },
  {
   "cell_type": "markdown",
   "metadata": {
    "hidden": true
   },
   "source": [
    "    \n",
    "**Algumas Conclusões** \n",
    "\n",
    "    VER \n",
    "    VER\n",
    "    VER\n",
    "    VER\n",
    "    VER"
   ]
  },
  {
   "cell_type": "markdown",
   "metadata": {
    "heading_collapsed": true
   },
   "source": [
    "### ESTADO CIVIL"
   ]
  },
  {
   "cell_type": "code",
   "execution_count": 84,
   "metadata": {
    "hidden": true
   },
   "outputs": [
    {
     "data": {
      "image/png": "[encoded data removed]",
      "text/plain": [
       "<Figure size 1800x1440 with 4 Axes>"
      ]
     },
     "metadata": {
      "needs_background": "light"
     },
     "output_type": "display_data"
    }
   ],
   "source": [
    "plt.figure(figsize=(25, 20))\n",
    "\n",
    "s2 = plt.subplot(2, 2, 1)\n",
    "s3 = sns.countplot(x = 'TP_ESTADO_CIVIL', data = df,\n",
    "                    palette = 'crest', hue = 'TP_ESTADO_CIVIL', dodge = False)\n",
    "\n",
    "\n",
    "s3 = plt.title('QT. DE CANDIDATOS POR ESTADO CIVIL',\n",
    "               pad = 20,\n",
    "         fontsize = 13, color ='dimgrey', fontweight = 'bold')\n",
    "\n",
    "s3 = sns.despine(bottom = True, left=True)\n",
    "s3 = plt.xlabel('ESTADO CIVIL', color = 'grey', labelpad = 20, fontsize = 8)\n",
    "s3 = plt.ylabel('QUANTIDADE', color = 'grey', labelpad = 20, fontsize = 8)\n",
    "s3 = plt.legend(loc=1, labels=['Nao informad', 'Solteiro', 'Casado', 'Divorciado', 'Viuvo'])\n",
    "\n",
    "\n",
    "##########\n",
    "\n",
    "estado_civil = df[df['TP_ESTADO_CIVIL'] == 1]\n",
    "\n",
    "s2 = plt.subplot(2,2, 2)\n",
    "\n",
    "sns.histplot(estado_civil[estado_civil['TP_SEXO'] == 'F']['NU_IDADE'], bins = 20, label = 'F', element = 'step',\n",
    "             color = '#da8b40')\n",
    "sns.histplot(estado_civil[estado_civil['TP_SEXO'] == 'M']['NU_IDADE'],bins = 20, label = 'M', element = 'step',\n",
    "             color = '#257ca0')\n",
    "\n",
    "\n",
    "s2 = plt.title('HISTOGRAMA DE CANDIDATOS SOLTEIROS',\n",
    "               pad = 20,\n",
    "         fontsize = 13, color ='dimgrey', fontweight = 'bold')\n",
    "\n",
    "s2 = sns.despine(bottom = True, left=True)\n",
    "s2 = plt.xlabel('IDADE', color = 'grey', labelpad = 20, fontsize = 8)\n",
    "s2 = plt.ylabel('QUANTIDADE', color = 'grey', labelpad = 20, fontsize = 8)\n",
    "s2 = plt.legend()\n",
    "\n",
    "\n",
    "##########\n",
    "\n",
    "estado_civil = df[df['TP_ESTADO_CIVIL'] == 2]\n",
    "\n",
    "s2 = plt.subplot(2, 2, 3)\n",
    "\n",
    "sns.histplot(estado_civil[estado_civil['TP_SEXO'] == 'F']['NU_IDADE'], bins = 20, label = 'F', element = 'step',\n",
    "             color = '#da8b40')\n",
    "sns.histplot(estado_civil[estado_civil['TP_SEXO'] == 'M']['NU_IDADE'],bins = 20, label = 'M', element = 'step',\n",
    "             color = '#257ca0')\n",
    "\n",
    "\n",
    "s2 = plt.title('HISTOGRAMA DE CANDIDATOS CASADOS',\n",
    "               pad = 20,\n",
    "         fontsize = 13, color ='dimgrey', fontweight = 'bold')\n",
    "\n",
    "s2 = sns.despine(bottom = True, left=True)\n",
    "s2 = plt.xlabel('IDADE', color = 'grey', labelpad = 20, fontsize = 8)\n",
    "s2 = plt.ylabel('QUANTIDADE', color = 'grey', labelpad = 20, fontsize = 8)\n",
    "s2 = plt.legend()\n",
    "\n",
    "\n",
    "##########\n",
    "\n",
    "estado_civil = df[(df['TP_ESTADO_CIVIL'] == 3) | (df['TP_ESTADO_CIVIL'] == 4)]\n",
    "\n",
    "s2 = plt.subplot(2, 2, 4)\n",
    "\n",
    "sns.histplot(estado_civil[estado_civil['TP_SEXO'] == 'F']['NU_IDADE'], bins = 20, label = 'F', element = 'step',\n",
    "             color = '#da8b40')\n",
    "sns.histplot(estado_civil[estado_civil['TP_SEXO'] == 'M']['NU_IDADE'],bins = 20, label = 'M', element = 'step',\n",
    "             color = '#257ca0')\n",
    "\n",
    "\n",
    "s2 = plt.title('HISTOGRAMA DE CANDIDATOS DIVORCIADOS E VIÚVOS',\n",
    "               pad = 20,\n",
    "         fontsize = 13, color ='dimgrey', fontweight = 'bold')\n",
    "\n",
    "s2 = sns.despine(bottom = True, left=True)\n",
    "s2 = plt.xlabel('IDADE', color = 'grey', labelpad = 20, fontsize = 8)\n",
    "s2 = plt.ylabel('QUANTIDADE', color = 'grey', labelpad = 20, fontsize = 8)\n",
    "s2 = plt.legend()"
   ]
  },
  {
   "cell_type": "markdown",
   "metadata": {
    "hidden": true
   },
   "source": [
    "    \n",
    "**Algumas Conclusões** \n",
    "\n",
    "    1 - A maior parte dos candidatos são solteiros\n",
    "    2 - Candidatos casados se concentram mais após os ~22 anos\n",
    "    3 - Candidatos divorciados e viúvos estão mais \"espalhados\" em relação a idade"
   ]
  },
  {
   "cell_type": "markdown",
   "metadata": {
    "heading_collapsed": true
   },
   "source": [
    "###  RAÇA"
   ]
  },
  {
   "cell_type": "code",
   "execution_count": 93,
   "metadata": {
    "hidden": true
   },
   "outputs": [
    {
     "data": {
      "image/png": "[encoded data removed]",
      "text/plain": [
       "<Figure size 1800x1440 with 4 Axes>"
      ]
     },
     "metadata": {
      "needs_background": "light"
     },
     "output_type": "display_data"
    }
   ],
   "source": [
    "plt.figure(figsize=(25, 20))\n",
    "\n",
    "s2 = plt.subplot(2, 2, 1)\n",
    "s3 = sns.countplot(x = 'TP_COR_RACA', data = df,\n",
    "                    palette = 'crest', hue = 'TP_COR_RACA', dodge = False)\n",
    "\n",
    "\n",
    "s3 = plt.title('QT. DE CANDIDATOS POR RAÇA',\n",
    "               pad = 20,\n",
    "         fontsize = 13, color ='dimgrey', fontweight = 'bold')\n",
    "\n",
    "s3 = sns.despine(bottom = True, left=True)\n",
    "s3 = plt.xlabel('RACA', color = 'grey', labelpad = 20, fontsize = 8)\n",
    "s3 = plt.ylabel('QTDADE', color = 'grey', labelpad = 20, fontsize = 8)\n",
    "s3 = plt.legend(loc=1, labels=['Nao Declarado', 'Branca', 'Preta', 'Parda', 'Amarela', 'Indígena'])\n",
    "\n",
    "##########\n",
    "\n",
    "raca = df[df['TP_COR_RACA'] == 1]\n",
    "\n",
    "s2 = plt.subplot(2, 2, 2)\n",
    "\n",
    "sns.histplot(raca[raca['TP_SEXO'] == 'F']['NU_IDADE'], bins = 20, label = 'F', element = 'step',\n",
    "             color = '#da8b40')\n",
    "sns.histplot(raca[raca['TP_SEXO'] == 'M']['NU_IDADE'],bins = 20, label = 'M', element = 'step',\n",
    "             color = '#257ca0')\n",
    "\n",
    "\n",
    "s2 = plt.title('HISTOGRAMA DE CANDIDATOS DECLARADOS BRANCO',\n",
    "               pad = 20,\n",
    "         fontsize = 13, color ='dimgrey', fontweight = 'bold')\n",
    "\n",
    "s2 = sns.despine(bottom = True, left=True)\n",
    "s2 = plt.xlabel('IDADE', color = 'grey', labelpad = 20, fontsize = 8)\n",
    "s2 = plt.ylabel('QTDADE', color = 'grey', labelpad = 20, fontsize = 8)\n",
    "s2 = plt.legend()\n",
    "\n",
    "\n",
    "##############\n",
    "\n",
    "raca = df[df['TP_COR_RACA'] == 2]\n",
    "\n",
    "s2 = plt.subplot(2, 2, 3)\n",
    "\n",
    "sns.histplot(raca[raca['TP_SEXO'] == 'F']['NU_IDADE'], bins = 20, label = 'F', element = 'step',\n",
    "             color = '#da8b40')\n",
    "sns.histplot(raca[raca['TP_SEXO'] == 'M']['NU_IDADE'],bins = 20, label = 'M', element = 'step',\n",
    "             color = '#257ca0')\n",
    "\n",
    "\n",
    "s2 = plt.title('HISTOGRAMA DE CANDIDATOS DECLARADOS PRETOS',\n",
    "               pad = 20,\n",
    "         fontsize = 13, color ='dimgrey', fontweight = 'bold')\n",
    "\n",
    "s2 = sns.despine(bottom = True, left=True)\n",
    "s2 = plt.xlabel('IDADE', color = 'grey', labelpad = 20, fontsize = 8)\n",
    "s2 = plt.ylabel('QTDADE', color = 'grey', labelpad = 20, fontsize = 8)\n",
    "s2 = plt.legend()\n",
    "\n",
    "##############\n",
    "\n",
    "raca = df[df['TP_COR_RACA'] == 3]\n",
    "\n",
    "s2 = plt.subplot(2, 2, 4)\n",
    "\n",
    "sns.histplot(raca[raca['TP_SEXO'] == 'F']['NU_IDADE'], bins = 20, label = 'F', element = 'step',\n",
    "             color = '#da8b40')\n",
    "sns.histplot(raca[raca['TP_SEXO'] == 'M']['NU_IDADE'],bins = 20, label = 'M', element = 'step',\n",
    "             color = '#257ca0')\n",
    "\n",
    "\n",
    "s2 = plt.title('HISTOGRAMA DE CANDIDATOS DECLARADOS PARDOS',\n",
    "               pad = 20,\n",
    "         fontsize = 13, color ='dimgrey', fontweight = 'bold')\n",
    "\n",
    "s2 = sns.despine(bottom = True, left=True)\n",
    "s2 = plt.xlabel('IDADE', color = 'grey', labelpad = 20, fontsize = 8)\n",
    "s2 = plt.ylabel('QTDADE', color = 'grey', labelpad = 20, fontsize = 8)\n",
    "s2 = plt.legend()"
   ]
  },
  {
   "cell_type": "markdown",
   "metadata": {
    "hidden": true
   },
   "source": [
    "    \n",
    "**Algumas Conclusões** \n",
    "\n",
    "    1 - A maior parte ds candidatos se autodeclaram brancos, seguidos por pardos, negros, amarelos e indígenas\n",
    "    2 - A distribuição entre os sexos é bastante parecida, com exeção dos declarados pretos, com maior concentração de mulheres mais jovens\n",
    "    3 - A distribuição dos candidatos declarados pretos também está levemente mais distribuída quando comparado aos declarados brancos e pardos\n",
    "    4 - Os declarados brancos estão concentrados nas idades mais jovens"
   ]
  },
  {
   "cell_type": "markdown",
   "metadata": {},
   "source": [
    "### NOTAS"
   ]
  },
  {
   "cell_type": "code",
   "execution_count": null,
   "metadata": {},
   "outputs": [],
   "source": [
    "Variáveis referente a nota obtida\n",
    "        - NU_NOTA_CN\n",
    "        - NU_NOTA_CH\n",
    "        - NU_NOTA_LC\n",
    "        - NU_NOTA_MT\n",
    "        - NU_NOTA_REDACAO"
   ]
  },
  {
   "cell_type": "markdown",
   "metadata": {},
   "source": [
    "## FORMULAÇÃO DAS HIPÓTESES"
   ]
  },
  {
   "cell_type": "markdown",
   "metadata": {},
   "source": [
    "A seção a seguir tem como objetivo responder algumas hipóteses formuladas. \n",
    "Foi elaborado o Mind Map para suportar a formulação das questões objetos desta análise."
   ]
  },
  {
   "cell_type": "markdown",
   "metadata": {},
   "source": [
    "<img width=\"900px\" height=\"1000px\" src= 'MindMap.png'/>"
   ]
  },
  {
   "cell_type": "code",
   "execution_count": null,
   "metadata": {},
   "outputs": [],
   "source": []
  }
 ],
 "metadata": {
  "kernelspec": {
   "display_name": "Python 3",
   "language": "python",
   "name": "python3"
  },
  "language_info": {
   "codemirror_mode": {
    "name": "ipython",
    "version": 3
   },
   "file_extension": ".py",
   "mimetype": "text/x-python",
   "name": "python",
   "nbconvert_exporter": "python",
   "pygments_lexer": "ipython3",
   "version": "3.7.6"
  },
  "toc": {
   "base_numbering": 1,
   "nav_menu": {},
   "number_sections": true,
   "sideBar": true,
   "skip_h1_title": false,
   "title_cell": "Table of Contents",
   "title_sidebar": "Contents",
   "toc_cell": false,
   "toc_position": {},
   "toc_section_display": true,
   "toc_window_display": true
  }
 },
 "nbformat": 4,
 "nbformat_minor": 4
}
