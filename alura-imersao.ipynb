{
 "cells": [
  {
   "cell_type": "markdown",
   "metadata": {},
   "source": [
    "# IMERSAO DADOS ALURA\n",
    "\n",
    "****\n",
    "\n",
    "## ANÁLISE DE DADOS DA EDUCAÇÃO"
   ]
  },
  {
   "cell_type": "markdown",
   "metadata": {},
   "source": [
    "## AULA 01"
   ]
  },
  {
   "cell_type": "markdown",
   "metadata": {},
   "source": [
    "### IMPORTAÇÃO BIBLIOTECAS"
   ]
  },
  {
   "cell_type": "code",
   "execution_count": 38,
   "metadata": {},
   "outputs": [],
   "source": [
    "import pandas               as pd\n",
    "import seaborn              as sns\n",
    "import matplotlib.pyplot    as plt\n",
    "import numpy                as np"
   ]
  },
  {
   "cell_type": "markdown",
   "metadata": {},
   "source": [
    "### IMPORTAÇÃO DO DATASET"
   ]
  },
  {
   "cell_type": "code",
   "execution_count": 39,
   "metadata": {},
   "outputs": [],
   "source": [
    "fonte = \"https://raw.githubusercontent.com/alura-cursos/imersao-dados-2-2020/master/MICRODADOS_ENEM_2019_SAMPLE_43278.csv\"\n",
    "\n",
    "df = pd.read_csv(fonte)"
   ]
  },
  {
   "cell_type": "markdown",
   "metadata": {},
   "source": [
    "### EXPLORAÇÃO DO DATASET"
   ]
  },
  {
   "cell_type": "code",
   "execution_count": 40,
   "metadata": {},
   "outputs": [
    {
     "data": {
      "text/html": [
       "<div>\n",
       "<style scoped>\n",
       "    .dataframe tbody tr th:only-of-type {\n",
       "        vertical-align: middle;\n",
       "    }\n",
       "\n",
       "    .dataframe tbody tr th {\n",
       "        vertical-align: top;\n",
       "    }\n",
       "\n",
       "    .dataframe thead th {\n",
       "        text-align: right;\n",
       "    }\n",
       "</style>\n",
       "<table border=\"1\" class=\"dataframe\">\n",
       "  <thead>\n",
       "    <tr style=\"text-align: right;\">\n",
       "      <th></th>\n",
       "      <th>NU_INSCRICAO</th>\n",
       "      <th>NU_ANO</th>\n",
       "      <th>CO_MUNICIPIO_RESIDENCIA</th>\n",
       "      <th>NO_MUNICIPIO_RESIDENCIA</th>\n",
       "      <th>CO_UF_RESIDENCIA</th>\n",
       "      <th>SG_UF_RESIDENCIA</th>\n",
       "      <th>NU_IDADE</th>\n",
       "      <th>TP_SEXO</th>\n",
       "      <th>TP_ESTADO_CIVIL</th>\n",
       "      <th>TP_COR_RACA</th>\n",
       "      <th>...</th>\n",
       "      <th>Q016</th>\n",
       "      <th>Q017</th>\n",
       "      <th>Q018</th>\n",
       "      <th>Q019</th>\n",
       "      <th>Q020</th>\n",
       "      <th>Q021</th>\n",
       "      <th>Q022</th>\n",
       "      <th>Q023</th>\n",
       "      <th>Q024</th>\n",
       "      <th>Q025</th>\n",
       "    </tr>\n",
       "  </thead>\n",
       "  <tbody>\n",
       "    <tr>\n",
       "      <th>0</th>\n",
       "      <td>190001004661</td>\n",
       "      <td>2019</td>\n",
       "      <td>1506138</td>\n",
       "      <td>Redenção</td>\n",
       "      <td>15</td>\n",
       "      <td>PA</td>\n",
       "      <td>17</td>\n",
       "      <td>M</td>\n",
       "      <td>1</td>\n",
       "      <td>3</td>\n",
       "      <td>...</td>\n",
       "      <td>A</td>\n",
       "      <td>A</td>\n",
       "      <td>A</td>\n",
       "      <td>A</td>\n",
       "      <td>B</td>\n",
       "      <td>A</td>\n",
       "      <td>C</td>\n",
       "      <td>A</td>\n",
       "      <td>B</td>\n",
       "      <td>B</td>\n",
       "    </tr>\n",
       "    <tr>\n",
       "      <th>1</th>\n",
       "      <td>190001004674</td>\n",
       "      <td>2019</td>\n",
       "      <td>1504208</td>\n",
       "      <td>Marabá</td>\n",
       "      <td>15</td>\n",
       "      <td>PA</td>\n",
       "      <td>23</td>\n",
       "      <td>M</td>\n",
       "      <td>1</td>\n",
       "      <td>3</td>\n",
       "      <td>...</td>\n",
       "      <td>A</td>\n",
       "      <td>A</td>\n",
       "      <td>A</td>\n",
       "      <td>B</td>\n",
       "      <td>A</td>\n",
       "      <td>A</td>\n",
       "      <td>B</td>\n",
       "      <td>A</td>\n",
       "      <td>A</td>\n",
       "      <td>B</td>\n",
       "    </tr>\n",
       "    <tr>\n",
       "      <th>2</th>\n",
       "      <td>190001004722</td>\n",
       "      <td>2019</td>\n",
       "      <td>1501402</td>\n",
       "      <td>Belém</td>\n",
       "      <td>15</td>\n",
       "      <td>PA</td>\n",
       "      <td>35</td>\n",
       "      <td>F</td>\n",
       "      <td>2</td>\n",
       "      <td>1</td>\n",
       "      <td>...</td>\n",
       "      <td>A</td>\n",
       "      <td>A</td>\n",
       "      <td>A</td>\n",
       "      <td>B</td>\n",
       "      <td>A</td>\n",
       "      <td>B</td>\n",
       "      <td>B</td>\n",
       "      <td>A</td>\n",
       "      <td>A</td>\n",
       "      <td>B</td>\n",
       "    </tr>\n",
       "  </tbody>\n",
       "</table>\n",
       "<p>3 rows × 136 columns</p>\n",
       "</div>"
      ],
      "text/plain": [
       "   NU_INSCRICAO  NU_ANO  CO_MUNICIPIO_RESIDENCIA NO_MUNICIPIO_RESIDENCIA  \\\n",
       "0  190001004661    2019                  1506138                Redenção   \n",
       "1  190001004674    2019                  1504208                  Marabá   \n",
       "2  190001004722    2019                  1501402                   Belém   \n",
       "\n",
       "   CO_UF_RESIDENCIA SG_UF_RESIDENCIA  NU_IDADE TP_SEXO  TP_ESTADO_CIVIL  \\\n",
       "0                15               PA        17       M                1   \n",
       "1                15               PA        23       M                1   \n",
       "2                15               PA        35       F                2   \n",
       "\n",
       "   TP_COR_RACA  ...  Q016  Q017 Q018  Q019 Q020  Q021  Q022  Q023  Q024  Q025  \n",
       "0            3  ...     A     A    A     A    B     A     C     A     B     B  \n",
       "1            3  ...     A     A    A     B    A     A     B     A     A     B  \n",
       "2            1  ...     A     A    A     B    A     B     B     A     A     B  \n",
       "\n",
       "[3 rows x 136 columns]"
      ]
     },
     "execution_count": 40,
     "metadata": {},
     "output_type": "execute_result"
    }
   ],
   "source": [
    "# 3 primeirosdados do dataframe\n",
    "df.head(3)"
   ]
  },
  {
   "cell_type": "code",
   "execution_count": 41,
   "metadata": {},
   "outputs": [
    {
     "name": "stdout",
     "output_type": "stream",
     "text": [
      "Total de linhas: 127380 e o total de colunas é: 136\n"
     ]
    }
   ],
   "source": [
    "# Tamanho do dataframe\n",
    "print('Total de linhas: {} e o total de colunas é: {}'.format(df.shape[0], df.shape[1]))"
   ]
  },
  {
   "cell_type": "code",
   "execution_count": 42,
   "metadata": {},
   "outputs": [
    {
     "data": {
      "text/plain": [
       "array(['NU_INSCRICAO', 'NU_ANO', 'CO_MUNICIPIO_RESIDENCIA',\n",
       "       'NO_MUNICIPIO_RESIDENCIA', 'CO_UF_RESIDENCIA', 'SG_UF_RESIDENCIA',\n",
       "       'NU_IDADE', 'TP_SEXO', 'TP_ESTADO_CIVIL', 'TP_COR_RACA',\n",
       "       'TP_NACIONALIDADE', 'CO_MUNICIPIO_NASCIMENTO',\n",
       "       'NO_MUNICIPIO_NASCIMENTO', 'CO_UF_NASCIMENTO', 'SG_UF_NASCIMENTO',\n",
       "       'TP_ST_CONCLUSAO', 'TP_ANO_CONCLUIU', 'TP_ESCOLA', 'TP_ENSINO',\n",
       "       'IN_TREINEIRO', 'CO_ESCOLA', 'CO_MUNICIPIO_ESC',\n",
       "       'NO_MUNICIPIO_ESC', 'CO_UF_ESC', 'SG_UF_ESC',\n",
       "       'TP_DEPENDENCIA_ADM_ESC', 'TP_LOCALIZACAO_ESC', 'TP_SIT_FUNC_ESC',\n",
       "       'IN_BAIXA_VISAO', 'IN_CEGUEIRA', 'IN_SURDEZ',\n",
       "       'IN_DEFICIENCIA_AUDITIVA', 'IN_SURDO_CEGUEIRA',\n",
       "       'IN_DEFICIENCIA_FISICA', 'IN_DEFICIENCIA_MENTAL',\n",
       "       'IN_DEFICIT_ATENCAO', 'IN_DISLEXIA', 'IN_DISCALCULIA',\n",
       "       'IN_AUTISMO', 'IN_VISAO_MONOCULAR', 'IN_OUTRA_DEF', 'IN_GESTANTE',\n",
       "       'IN_LACTANTE', 'IN_IDOSO', 'IN_ESTUDA_CLASSE_HOSPITALAR',\n",
       "       'IN_SEM_RECURSO', 'IN_BRAILLE', 'IN_AMPLIADA_24', 'IN_AMPLIADA_18',\n",
       "       'IN_LEDOR', 'IN_ACESSO', 'IN_TRANSCRICAO', 'IN_LIBRAS',\n",
       "       'IN_TEMPO_ADICIONAL', 'IN_LEITURA_LABIAL', 'IN_MESA_CADEIRA_RODAS',\n",
       "       'IN_MESA_CADEIRA_SEPARADA', 'IN_APOIO_PERNA', 'IN_GUIA_INTERPRETE',\n",
       "       'IN_COMPUTADOR', 'IN_CADEIRA_ESPECIAL', 'IN_CADEIRA_CANHOTO',\n",
       "       'IN_CADEIRA_ACOLCHOADA', 'IN_PROVA_DEITADO', 'IN_MOBILIARIO_OBESO',\n",
       "       'IN_LAMINA_OVERLAY', 'IN_PROTETOR_AURICULAR', 'IN_MEDIDOR_GLICOSE',\n",
       "       'IN_MAQUINA_BRAILE', 'IN_SOROBAN', 'IN_MARCA_PASSO', 'IN_SONDA',\n",
       "       'IN_MEDICAMENTOS', 'IN_SALA_INDIVIDUAL', 'IN_SALA_ESPECIAL',\n",
       "       'IN_SALA_ACOMPANHANTE', 'IN_MOBILIARIO_ESPECIFICO',\n",
       "       'IN_MATERIAL_ESPECIFICO', 'IN_NOME_SOCIAL', 'CO_MUNICIPIO_PROVA',\n",
       "       'NO_MUNICIPIO_PROVA', 'CO_UF_PROVA', 'SG_UF_PROVA',\n",
       "       'TP_PRESENCA_CN', 'TP_PRESENCA_CH', 'TP_PRESENCA_LC',\n",
       "       'TP_PRESENCA_MT', 'CO_PROVA_CN', 'CO_PROVA_CH', 'CO_PROVA_LC',\n",
       "       'CO_PROVA_MT', 'NU_NOTA_CN', 'NU_NOTA_CH', 'NU_NOTA_LC',\n",
       "       'NU_NOTA_MT', 'TX_RESPOSTAS_CN', 'TX_RESPOSTAS_CH',\n",
       "       'TX_RESPOSTAS_LC', 'TX_RESPOSTAS_MT', 'TP_LINGUA',\n",
       "       'TX_GABARITO_CN', 'TX_GABARITO_CH', 'TX_GABARITO_LC',\n",
       "       'TX_GABARITO_MT', 'TP_STATUS_REDACAO', 'NU_NOTA_COMP1',\n",
       "       'NU_NOTA_COMP2', 'NU_NOTA_COMP3', 'NU_NOTA_COMP4', 'NU_NOTA_COMP5',\n",
       "       'NU_NOTA_REDACAO', 'Q001', 'Q002', 'Q003', 'Q004', 'Q005', 'Q006',\n",
       "       'Q007', 'Q008', 'Q009', 'Q010', 'Q011', 'Q012', 'Q013', 'Q014',\n",
       "       'Q015', 'Q016', 'Q017', 'Q018', 'Q019', 'Q020', 'Q021', 'Q022',\n",
       "       'Q023', 'Q024', 'Q025'], dtype=object)"
      ]
     },
     "execution_count": 42,
     "metadata": {},
     "output_type": "execute_result"
    }
   ],
   "source": [
    "# Visualizando as colunas\n",
    "df.columns.values"
   ]
  },
  {
   "cell_type": "code",
   "execution_count": 43,
   "metadata": {},
   "outputs": [
    {
     "data": {
      "text/plain": [
       "SP    20264\n",
       "MG    13547\n",
       "BA    10040\n",
       "RJ     8467\n",
       "CE     7381\n",
       "PA     7170\n",
       "PE     6941\n",
       "MA     5543\n",
       "RS     5466\n",
       "PR     5259\n",
       "GO     4268\n",
       "PB     3690\n",
       "PI     3034\n",
       "RN     2959\n",
       "AM     2820\n",
       "SC     2673\n",
       "ES     2550\n",
       "DF     2408\n",
       "AL     2263\n",
       "MT     2230\n",
       "SE     1815\n",
       "MS     1655\n",
       "RO     1400\n",
       "TO     1178\n",
       "AP     1047\n",
       "AC      946\n",
       "RR      366\n",
       "Name: SG_UF_RESIDENCIA, dtype: int64"
      ]
     },
     "execution_count": 43,
     "metadata": {},
     "output_type": "execute_result"
    }
   ],
   "source": [
    "# Visualizando a quantidade de dados por estado\n",
    "df['SG_UF_RESIDENCIA'].value_counts()"
   ]
  },
  {
   "cell_type": "code",
   "execution_count": 44,
   "metadata": {},
   "outputs": [
    {
     "data": {
      "text/plain": [
       "13        4\n",
       "14      141\n",
       "15     2009\n",
       "16     7830\n",
       "17    21256\n",
       "      ...  \n",
       "73        2\n",
       "75        2\n",
       "76        1\n",
       "77        1\n",
       "82        1\n",
       "Name: NU_IDADE, Length: 65, dtype: int64"
      ]
     },
     "execution_count": 44,
     "metadata": {},
     "output_type": "execute_result"
    }
   ],
   "source": [
    "# Visualizando e contando os alunos por idade - Ordenação por quantidade de alunos\n",
    "df['NU_IDADE'].value_counts().sort_index()"
   ]
  },
  {
   "cell_type": "code",
   "execution_count": 45,
   "metadata": {},
   "outputs": [
    {
     "name": "stdout",
     "output_type": "stream",
     "text": [
      "O aluno mais novo deste dataset tem 13 anos e o mais velho 82 anos\n"
     ]
    }
   ],
   "source": [
    "# Visualizando o menor e a maior idade\n",
    "print('O aluno mais novo deste dataset tem {} anos e o mais velho {} anos'.format(df['NU_IDADE'].min(), \n",
    "                                                                                  df['NU_IDADE'].max()))"
   ]
  },
  {
   "cell_type": "code",
   "execution_count": 46,
   "metadata": {},
   "outputs": [
    {
     "data": {
      "text/plain": [
       "14      64\n",
       "15    1927\n",
       "16    7142\n",
       "17    4901\n",
       "18     858\n",
       "19     228\n",
       "20      83\n",
       "21      44\n",
       "22      30\n",
       "23      21\n",
       "24      13\n",
       "25       8\n",
       "26      13\n",
       "27       9\n",
       "28       6\n",
       "29      10\n",
       "30       4\n",
       "31       4\n",
       "32       2\n",
       "33       1\n",
       "34       3\n",
       "35       2\n",
       "36       2\n",
       "37       1\n",
       "38       4\n",
       "39       2\n",
       "40       4\n",
       "41       1\n",
       "42       4\n",
       "44       2\n",
       "45       1\n",
       "46       2\n",
       "47       1\n",
       "48       1\n",
       "51       1\n",
       "55       1\n",
       "62       1\n",
       "Name: NU_IDADE, dtype: int64"
      ]
     },
     "execution_count": 46,
     "metadata": {},
     "output_type": "execute_result"
    }
   ],
   "source": [
    "# Separarando os dados somente dos alunos que são treineiros e contar pela idade\n",
    "df.query('IN_TREINEIRO == 1')['NU_IDADE'].value_counts().sort_index()"
   ]
  },
  {
   "cell_type": "markdown",
   "metadata": {},
   "source": [
    "## HISTOGRAMA"
   ]
  },
  {
   "cell_type": "code",
   "execution_count": 47,
   "metadata": {},
   "outputs": [
    {
     "data": {
      "text/plain": [
       "<matplotlib.axes._subplots.AxesSubplot at 0x104889cd0>"
      ]
     },
     "execution_count": 47,
     "metadata": {},
     "output_type": "execute_result"
    },
    {
     "data": {
      "image/png": "[encoded data removed]",
      "text/plain": [
       "<Figure size 432x288 with 1 Axes>"
      ]
     },
     "metadata": {
      "needs_background": "light"
     },
     "output_type": "display_data"
    }
   ],
   "source": [
    "df['NU_IDADE'].hist()"
   ]
  },
  {
   "cell_type": "code",
   "execution_count": 48,
   "metadata": {},
   "outputs": [
    {
     "data": {
      "text/plain": [
       "<matplotlib.axes._subplots.AxesSubplot at 0x1a183e0c50>"
      ]
     },
     "execution_count": 48,
     "metadata": {},
     "output_type": "execute_result"
    },
    {
     "data": {
      "image/png": "[encoded data removed]",
      "text/plain": [
       "<Figure size 432x288 with 1 Axes>"
      ]
     },
     "metadata": {
      "needs_background": "light"
     },
     "output_type": "display_data"
    }
   ],
   "source": [
    "# Alterando a quantidade de bins\n",
    "df['NU_IDADE'].hist(bins = 20)"
   ]
  },
  {
   "cell_type": "code",
   "execution_count": 49,
   "metadata": {},
   "outputs": [
    {
     "data": {
      "text/plain": [
       "<matplotlib.axes._subplots.AxesSubplot at 0x1a1808b310>"
      ]
     },
     "execution_count": 49,
     "metadata": {},
     "output_type": "execute_result"
    },
    {
     "data": {
      "image/png": "[encoded data removed]",
      "text/plain": [
       "<Figure size 432x288 with 1 Axes>"
      ]
     },
     "metadata": {
      "needs_background": "light"
     },
     "output_type": "display_data"
    }
   ],
   "source": [
    "# Histograma das notas de redação\n",
    "df['NU_NOTA_REDACAO'].hist(bins=20)"
   ]
  },
  {
   "cell_type": "markdown",
   "metadata": {},
   "source": [
    "## ANALISES ESTATÍSTICAS DESCRITIVAS"
   ]
  },
  {
   "cell_type": "code",
   "execution_count": 50,
   "metadata": {},
   "outputs": [
    {
     "data": {
      "text/plain": [
       "571.5700253970197"
      ]
     },
     "execution_count": 50,
     "metadata": {},
     "output_type": "execute_result"
    }
   ],
   "source": [
    "# Media\n",
    "df['NU_NOTA_REDACAO'].mean()"
   ]
  },
  {
   "cell_type": "code",
   "execution_count": 51,
   "metadata": {},
   "outputs": [
    {
     "data": {
      "text/plain": [
       "188.07645455749753"
      ]
     },
     "execution_count": 51,
     "metadata": {},
     "output_type": "execute_result"
    }
   ],
   "source": [
    "# Desvio padrao\n",
    "df['NU_NOTA_REDACAO'].std()"
   ]
  },
  {
   "cell_type": "code",
   "execution_count": 52,
   "metadata": {},
   "outputs": [
    {
     "data": {
      "text/html": [
       "<div>\n",
       "<style scoped>\n",
       "    .dataframe tbody tr th:only-of-type {\n",
       "        vertical-align: middle;\n",
       "    }\n",
       "\n",
       "    .dataframe tbody tr th {\n",
       "        vertical-align: top;\n",
       "    }\n",
       "\n",
       "    .dataframe thead th {\n",
       "        text-align: right;\n",
       "    }\n",
       "</style>\n",
       "<table border=\"1\" class=\"dataframe\">\n",
       "  <thead>\n",
       "    <tr style=\"text-align: right;\">\n",
       "      <th></th>\n",
       "      <th>NU_NOTA_CN</th>\n",
       "      <th>NU_NOTA_CH</th>\n",
       "      <th>NU_NOTA_MT</th>\n",
       "      <th>NU_NOTA_LC</th>\n",
       "      <th>NU_NOTA_REDACAO</th>\n",
       "    </tr>\n",
       "  </thead>\n",
       "  <tbody>\n",
       "    <tr>\n",
       "      <th>count</th>\n",
       "      <td>92,758.00</td>\n",
       "      <td>98,043.00</td>\n",
       "      <td>92,758.00</td>\n",
       "      <td>98,043.00</td>\n",
       "      <td>98,043.00</td>\n",
       "    </tr>\n",
       "    <tr>\n",
       "      <th>mean</th>\n",
       "      <td>477.96</td>\n",
       "      <td>507.37</td>\n",
       "      <td>523.56</td>\n",
       "      <td>520.46</td>\n",
       "      <td>571.57</td>\n",
       "    </tr>\n",
       "    <tr>\n",
       "      <th>std</th>\n",
       "      <td>76.30</td>\n",
       "      <td>82.97</td>\n",
       "      <td>109.42</td>\n",
       "      <td>64.56</td>\n",
       "      <td>188.08</td>\n",
       "    </tr>\n",
       "    <tr>\n",
       "      <th>min</th>\n",
       "      <td>0.00</td>\n",
       "      <td>0.00</td>\n",
       "      <td>0.00</td>\n",
       "      <td>0.00</td>\n",
       "      <td>0.00</td>\n",
       "    </tr>\n",
       "    <tr>\n",
       "      <th>25%</th>\n",
       "      <td>418.00</td>\n",
       "      <td>447.90</td>\n",
       "      <td>435.30</td>\n",
       "      <td>483.70</td>\n",
       "      <td>480.00</td>\n",
       "    </tr>\n",
       "    <tr>\n",
       "      <th>50%</th>\n",
       "      <td>470.20</td>\n",
       "      <td>510.90</td>\n",
       "      <td>501.60</td>\n",
       "      <td>526.10</td>\n",
       "      <td>580.00</td>\n",
       "    </tr>\n",
       "    <tr>\n",
       "      <th>75%</th>\n",
       "      <td>533.30</td>\n",
       "      <td>567.10</td>\n",
       "      <td>598.20</td>\n",
       "      <td>565.10</td>\n",
       "      <td>680.00</td>\n",
       "    </tr>\n",
       "    <tr>\n",
       "      <th>max</th>\n",
       "      <td>797.30</td>\n",
       "      <td>809.40</td>\n",
       "      <td>985.00</td>\n",
       "      <td>801.70</td>\n",
       "      <td>1,000.00</td>\n",
       "    </tr>\n",
       "  </tbody>\n",
       "</table>\n",
       "</div>"
      ],
      "text/plain": [
       "       NU_NOTA_CN  NU_NOTA_CH  NU_NOTA_MT  NU_NOTA_LC  NU_NOTA_REDACAO\n",
       "count   92,758.00   98,043.00   92,758.00   98,043.00        98,043.00\n",
       "mean       477.96      507.37      523.56      520.46           571.57\n",
       "std         76.30       82.97      109.42       64.56           188.08\n",
       "min          0.00        0.00        0.00        0.00             0.00\n",
       "25%        418.00      447.90      435.30      483.70           480.00\n",
       "50%        470.20      510.90      501.60      526.10           580.00\n",
       "75%        533.30      567.10      598.20      565.10           680.00\n",
       "max        797.30      809.40      985.00      801.70         1,000.00"
      ]
     },
     "execution_count": 52,
     "metadata": {},
     "output_type": "execute_result"
    }
   ],
   "source": [
    "# Selecionando somente as colunas de notas\n",
    "provas = ['NU_NOTA_CN', 'NU_NOTA_CH', 'NU_NOTA_MT', 'NU_NOTA_LC', 'NU_NOTA_REDACAO']\n",
    "\n",
    "# Visualizando as estatisticas descritivas basicas\n",
    "df[provas].describe()"
   ]
  },
  {
   "cell_type": "code",
   "execution_count": 53,
   "metadata": {},
   "outputs": [
    {
     "data": {
      "text/plain": [
       "596.3"
      ]
     },
     "execution_count": 53,
     "metadata": {},
     "output_type": "execute_result"
    }
   ],
   "source": [
    "# Visualizando os 10% mais baixo\n",
    "df['NU_NOTA_LC'].quantile(0.9)"
   ]
  },
  {
   "cell_type": "markdown",
   "metadata": {},
   "source": [
    "## BOXPLOT"
   ]
  },
  {
   "cell_type": "code",
   "execution_count": 54,
   "metadata": {},
   "outputs": [
    {
     "data": {
      "text/plain": [
       "<matplotlib.axes._subplots.AxesSubplot at 0x1a18398fd0>"
      ]
     },
     "execution_count": 54,
     "metadata": {},
     "output_type": "execute_result"
    },
    {
     "data": {
      "image/png": "[encoded data removed]",
      "text/plain": [
       "<Figure size 720x432 with 1 Axes>"
      ]
     },
     "metadata": {
      "needs_background": "light"
     },
     "output_type": "display_data"
    }
   ],
   "source": [
    "df['NU_NOTA_LC'].plot.box(grid = True, figsize =(10, 6))"
   ]
  },
  {
   "cell_type": "code",
   "execution_count": 55,
   "metadata": {},
   "outputs": [
    {
     "data": {
      "text/plain": [
       "<matplotlib.axes._subplots.AxesSubplot at 0x1a194fd690>"
      ]
     },
     "execution_count": 55,
     "metadata": {},
     "output_type": "execute_result"
    },
    {
     "data": {
      "image/png": "[encoded data removed]",
      "text/plain": [
       "<Figure size 1008x576 with 1 Axes>"
      ]
     },
     "metadata": {
      "needs_background": "light"
     },
     "output_type": "display_data"
    }
   ],
   "source": [
    "df[provas].boxplot(figsize=(14,8))"
   ]
  },
  {
   "cell_type": "markdown",
   "metadata": {},
   "source": [
    "## DESAFIOS AULA 01"
   ]
  },
  {
   "cell_type": "raw",
   "metadata": {},
   "source": [
    "1) PROPORÇÃO DOS ALUNOS INSCRITOS POR IDADE\n",
    "\n",
    "2) DESCOBRIR DE QUAIS ESTADOS SÃO OS INSCRITOS COM 13 ANOS\n",
    "\n",
    "3) ADICIONAR TÍTULO NO GRÁFICO\n",
    "\n",
    "4) PLOTAR DOIS HISTOGRAMAS DAS IDADES DOS TREINEIROS E NÃO TREINEIROS\n",
    "\n",
    "5) COMPARAR AS DISTRIBUIÇÕES DAS PROVAS EM INGLÊES E ESPANHOL"
   ]
  },
  {
   "cell_type": "markdown",
   "metadata": {},
   "source": [
    "### PROPORÇÃO DOS ALUNOS INSCRITOS POR IDADE"
   ]
  },
  {
   "cell_type": "code",
   "execution_count": 56,
   "metadata": {},
   "outputs": [
    {
     "data": {
      "text/html": [
       "<div>\n",
       "<style scoped>\n",
       "    .dataframe tbody tr th:only-of-type {\n",
       "        vertical-align: middle;\n",
       "    }\n",
       "\n",
       "    .dataframe tbody tr th {\n",
       "        vertical-align: top;\n",
       "    }\n",
       "\n",
       "    .dataframe thead th {\n",
       "        text-align: right;\n",
       "    }\n",
       "</style>\n",
       "<table border=\"1\" class=\"dataframe\">\n",
       "  <thead>\n",
       "    <tr style=\"text-align: right;\">\n",
       "      <th></th>\n",
       "      <th>NU_IDADE</th>\n",
       "      <th>PERC_IDADE</th>\n",
       "    </tr>\n",
       "  </thead>\n",
       "  <tbody>\n",
       "    <tr>\n",
       "      <th>13</th>\n",
       "      <td>4</td>\n",
       "      <td>0.00</td>\n",
       "    </tr>\n",
       "    <tr>\n",
       "      <th>14</th>\n",
       "      <td>141</td>\n",
       "      <td>0.11</td>\n",
       "    </tr>\n",
       "    <tr>\n",
       "      <th>15</th>\n",
       "      <td>2009</td>\n",
       "      <td>1.58</td>\n",
       "    </tr>\n",
       "    <tr>\n",
       "      <th>16</th>\n",
       "      <td>7830</td>\n",
       "      <td>6.15</td>\n",
       "    </tr>\n",
       "    <tr>\n",
       "      <th>17</th>\n",
       "      <td>21256</td>\n",
       "      <td>16.69</td>\n",
       "    </tr>\n",
       "    <tr>\n",
       "      <th>...</th>\n",
       "      <td>...</td>\n",
       "      <td>...</td>\n",
       "    </tr>\n",
       "    <tr>\n",
       "      <th>73</th>\n",
       "      <td>2</td>\n",
       "      <td>0.00</td>\n",
       "    </tr>\n",
       "    <tr>\n",
       "      <th>75</th>\n",
       "      <td>2</td>\n",
       "      <td>0.00</td>\n",
       "    </tr>\n",
       "    <tr>\n",
       "      <th>76</th>\n",
       "      <td>1</td>\n",
       "      <td>0.00</td>\n",
       "    </tr>\n",
       "    <tr>\n",
       "      <th>77</th>\n",
       "      <td>1</td>\n",
       "      <td>0.00</td>\n",
       "    </tr>\n",
       "    <tr>\n",
       "      <th>82</th>\n",
       "      <td>1</td>\n",
       "      <td>0.00</td>\n",
       "    </tr>\n",
       "  </tbody>\n",
       "</table>\n",
       "<p>65 rows × 2 columns</p>\n",
       "</div>"
      ],
      "text/plain": [
       "    NU_IDADE  PERC_IDADE\n",
       "13         4        0.00\n",
       "14       141        0.11\n",
       "15      2009        1.58\n",
       "16      7830        6.15\n",
       "17     21256       16.69\n",
       "..       ...         ...\n",
       "73         2        0.00\n",
       "75         2        0.00\n",
       "76         1        0.00\n",
       "77         1        0.00\n",
       "82         1        0.00\n",
       "\n",
       "[65 rows x 2 columns]"
      ]
     },
     "execution_count": 56,
     "metadata": {},
     "output_type": "execute_result"
    }
   ],
   "source": [
    "pd.options.display.float_format = '{:,.2f}'.format ##display da casa decimal\n",
    "\n",
    "# Contagem dos alunos por idade\n",
    "alunos_por_idade_qt = df['NU_IDADE'].value_counts().sort_index()\n",
    "\n",
    "# % dos alunos por idade\n",
    "alunos_por_idade_per = (df['NU_IDADE'].value_counts(normalize=True).sort_index()) *100\n",
    "\n",
    "# Inserindo as duas variáveis em um DataFrame\n",
    "alunos_por_idade = pd.DataFrame({'NU_IDADE' : alunos_por_idade_qt,\n",
    "                                 'PERC_IDADE': alunos_por_idade_per})\n",
    "\n",
    "alunos_por_idade"
   ]
  },
  {
   "cell_type": "markdown",
   "metadata": {},
   "source": [
    "### QUAIS ESTADOS COM INSCRITOS COM 13 ANOS"
   ]
  },
  {
   "cell_type": "code",
   "execution_count": 57,
   "metadata": {},
   "outputs": [
    {
     "data": {
      "text/plain": [
       "57359     SP\n",
       "95630     MT\n",
       "98197     AP\n",
       "116501    BA\n",
       "Name: SG_UF_RESIDENCIA, dtype: object"
      ]
     },
     "execution_count": 57,
     "metadata": {},
     "output_type": "execute_result"
    }
   ],
   "source": [
    "# Query para buscar alunos com idade igual a 13 anos\n",
    "df.query('NU_IDADE == 13')['SG_UF_RESIDENCIA']"
   ]
  },
  {
   "cell_type": "markdown",
   "metadata": {},
   "source": [
    "### 3) ADICIONAR TÍTULO NO GRÁFICO\n",
    "****\n",
    "\n",
    "### 4) PLOTAR DOIS HISTOGRAMAS DAS IDADES DOS TREINEIROS E NÃO TREINEIROS"
   ]
  },
  {
   "cell_type": "code",
   "execution_count": 58,
   "metadata": {},
   "outputs": [
    {
     "data": {
      "image/png": "[encoded data removed]",
      "text/plain": [
       "<Figure size 720x360 with 1 Axes>"
      ]
     },
     "metadata": {
      "needs_background": "light"
     },
     "output_type": "display_data"
    }
   ],
   "source": [
    "#Definindo o tamanho da \"imagem\" (grafico)\n",
    "ax = plt.figure(figsize=(10, 5))\n",
    "\n",
    "# Selecionando os dados e configurando o histograma\n",
    "sns.histplot(df[df['IN_TREINEIRO'] == 0]['NU_IDADE'], bins = 20, label = 'Não Treineiro',\n",
    "             element = 'step', color = '#2e79b5')\n",
    "\n",
    "sns.histplot(df[df['IN_TREINEIRO'] == 1]['NU_IDADE'], bins = 20, label = 'Treineiro',\n",
    "             element = 'step', color = '#d79d19')\n",
    "\n",
    "# Definindo a legenda\n",
    "plt.legend()\n",
    "\n",
    "#removend as bordas\n",
    "sns.despine(bottom = True,left = True) \n",
    "\n",
    "#Definindo o rótulo do eixo x\n",
    "plt.xlabel('DISTRIBUICAO IDADE', color = 'grey', labelpad = 20, fontsize = 10) \n",
    "\n",
    "#Definindo o rótulo do eixo x\n",
    "plt.ylabel('QUANTIDADE DE ALUNOS', color = 'grey', labelpad = 20, fontsize = 10) \n",
    "\n",
    "#Configurando o título do gráfico\n",
    "plt.title('DISTRIBUICAO DA IDADE DOS ALUNOS POR TREINEIROS E NÃO TREINEIROS', pad = 20,\n",
    "         fontsize = 13, color ='dimgrey', fontweight = 'bold') \n",
    "\n",
    "\n",
    "ax = ax"
   ]
  },
  {
   "cell_type": "markdown",
   "metadata": {},
   "source": [
    "### COMPARAR AS DISTRIBUIÇÕES DAS PROVAS EM INGLÊS E ESPANHOL (1)"
   ]
  },
  {
   "cell_type": "code",
   "execution_count": 59,
   "metadata": {},
   "outputs": [
    {
     "data": {
      "image/png": "[encoded data removed]",
      "text/plain": [
       "<Figure size 864x504 with 1 Axes>"
      ]
     },
     "metadata": {},
     "output_type": "display_data"
    }
   ],
   "source": [
    "#Definindo o tamanho da \"imagem\" (grafico)\n",
    "plt.figure(figsize=(12, 7))\n",
    "\n",
    "\n",
    "# Selecionando os dados e configurando o histograma\n",
    "sns.boxplot(data = df, x = 'TP_LINGUA', y='NU_NOTA_LC', palette = 'Blues', linewidth = 0.7)\n",
    "\n",
    "# Configurando o título\n",
    "plt.title('NOTAS OBTIDAS CONFORME IDIOMA ESCOLHIDO', pad = 20,\n",
    "         fontsize = 13, color ='dimgrey', fontweight = 'bold')\n",
    "\n",
    "# Configurando o eixo X e Y\n",
    "plt.xlabel('IDIOMA ESCOLHIDO', color = 'grey', labelpad = 20, fontsize = 10)\n",
    "plt.ylabel('NOTA', color = 'grey', labelpad = 20, fontsize = 10)\n",
    "\n",
    "# Alterando a escala do eixo y (posicao inicial, posicao final, intervalo)\n",
    "y_ticks = np.arange(0, 1000, 50)\n",
    "plt.yticks(y_ticks, color = 'grey', fontsize = 8)\n",
    "\n",
    "#removend as bordas\n",
    "sns.despine( bottom = True, left = False) \n",
    "\n",
    "#labelx = ['INGLES', 'ESPANHOL']\n",
    "#ax.set_xtick(x)\n",
    "#ax.set_xticklabels(labelx)\n"
   ]
  },
  {
   "cell_type": "markdown",
   "metadata": {},
   "source": [
    "### COMPARAR AS DISTRIBUIÇÕES DAS PROVAS EM INGLÊS E ESPANHOL (2)"
   ]
  },
  {
   "cell_type": "code",
   "execution_count": 60,
   "metadata": {},
   "outputs": [
    {
     "data": {
      "image/png": "[encoded data removed]",
      "text/plain": [
       "<Figure size 1296x360 with 2 Axes>"
      ]
     },
     "metadata": {
      "needs_background": "light"
     },
     "output_type": "display_data"
    }
   ],
   "source": [
    "plt.figure(figsize=(18, 5))\n",
    "\n",
    "## PRIMEIRO PLOT\n",
    "ax1 = plt.subplot(1, 2, 1)\n",
    "\n",
    "sns.kdeplot(df[df['TP_LINGUA'] == 0]['NU_NOTA_LC'], label = 'INGLES', shade = True, color = '#da8b40')\n",
    "sns.kdeplot(df[df['TP_LINGUA'] == 1]['NU_NOTA_LC'], label = 'ESPANHOL', shade = True, color = '#257ca0')\n",
    "\n",
    "# Configurando o título\n",
    "plt.title('NOTAS CONFORME IDIOMA ESCOLHIDO / ESTIMATIVA DE DENSIDADE', pad = 20, \n",
    "          fontsize = 13, color ='dimgrey', fontweight = 'bold')\n",
    "\n",
    "# Configurando eixo X e Y\n",
    "plt.ylabel('NOTAS')\n",
    "\n",
    "# Definindo a legenda\n",
    "plt.legend()\n",
    "\n",
    "#removend as bordas\n",
    "sns.despine(bottom=True, left = True)\n",
    "\n",
    "# Configurando eixo x e y\n",
    "ax1.tick_params(axis ='y', labelsize=0, length = 0)\n",
    "ax1.set_yticklabels([])\n",
    "plt.ylabel([], fontsize =0)\n",
    "plt.xlabel('NOTAS', labelpad = 20)\n",
    "\n",
    "\n",
    "\n",
    "##########\n",
    "# Graph 2\n",
    "ax2 = plt.subplot(1, 2, 2)\n",
    "\n",
    "# Configurando o título\n",
    "plt.title('NOTAS CONFORME IDIOMA ESCOLHIDO / HISTOGRAMA', pad = 20, fontsize = 12, \n",
    "          color ='dimgrey', fontweight = 'bold')\n",
    "\n",
    "sns.histplot(df[df['TP_LINGUA'] == 0]['NU_NOTA_LC'], bins = 20, label = 'INGLES', element = 'step',\n",
    "             color = '#da8b40')\n",
    "sns.histplot(df[df['TP_LINGUA'] == 1]['NU_NOTA_LC'], bins = 20, label = 'ESPANHOL', element = 'step',\n",
    "             color = '#257ca0')\n",
    "\n",
    "#removend as bordas\n",
    "sns.despine(bottom=True, left = True)\n",
    "\n",
    "# Selecionando legenda\n",
    "plt.legend()\n",
    "\n",
    "# Configurando eixo x e y\n",
    "ax2.tick_params(axis ='y', labelsize=0, length = 0)\n",
    "ax2.set_yticklabels([])\n",
    "plt.ylabel([], fontsize =0)\n",
    "plt.xlabel('NOTAS', labelpad = 20)\n",
    "ax2 = ax2\n"
   ]
  },
  {
   "cell_type": "markdown",
   "metadata": {
    "heading_collapsed": true
   },
   "source": [
    "## AULA 02"
   ]
  },
  {
   "cell_type": "code",
   "execution_count": 61,
   "metadata": {
    "hidden": true
   },
   "outputs": [
    {
     "data": {
      "text/plain": [
       "Text(0.5, 1.0, 'Boxplot das notas de matematica pela renda')"
      ]
     },
     "execution_count": 61,
     "metadata": {},
     "output_type": "execute_result"
    },
    {
     "data": {
      "image/png": "[encoded data removed]",
      "text/plain": [
       "<Figure size 720x576 with 1 Axes>"
      ]
     },
     "metadata": {
      "needs_background": "light"
     },
     "output_type": "display_data"
    }
   ],
   "source": [
    "renda_ordenada = df['Q006'].unique()\n",
    "renda_ordenada.sort()\n",
    "\n",
    "plt.figure(figsize=(10, 8))\n",
    "sns.boxplot(x='Q006', y = 'NU_NOTA_MT', data = df, order = renda_ordenada)\n",
    "plt.title('Boxplot das notas de matematica pela renda')"
   ]
  },
  {
   "cell_type": "code",
   "execution_count": 62,
   "metadata": {
    "hidden": true
   },
   "outputs": [
    {
     "data": {
      "text/plain": [
       "NU_NOTA_CN        44,334,986.10\n",
       "NU_NOTA_CH        49,743,676.10\n",
       "NU_NOTA_MT        48,563,933.80\n",
       "NU_NOTA_LC        51,027,844.90\n",
       "NU_NOTA_REDACAO   56,038,440.00\n",
       "dtype: float64"
      ]
     },
     "execution_count": 62,
     "metadata": {},
     "output_type": "execute_result"
    }
   ],
   "source": [
    "# Somando as colunas\n",
    "df[provas].sum()"
   ]
  },
  {
   "cell_type": "code",
   "execution_count": 63,
   "metadata": {
    "hidden": true
   },
   "outputs": [
    {
     "data": {
      "text/html": [
       "<div>\n",
       "<style scoped>\n",
       "    .dataframe tbody tr th:only-of-type {\n",
       "        vertical-align: middle;\n",
       "    }\n",
       "\n",
       "    .dataframe tbody tr th {\n",
       "        vertical-align: top;\n",
       "    }\n",
       "\n",
       "    .dataframe thead th {\n",
       "        text-align: right;\n",
       "    }\n",
       "</style>\n",
       "<table border=\"1\" class=\"dataframe\">\n",
       "  <thead>\n",
       "    <tr style=\"text-align: right;\">\n",
       "      <th></th>\n",
       "      <th>NU_INSCRICAO</th>\n",
       "      <th>NU_ANO</th>\n",
       "      <th>CO_MUNICIPIO_RESIDENCIA</th>\n",
       "      <th>NO_MUNICIPIO_RESIDENCIA</th>\n",
       "      <th>CO_UF_RESIDENCIA</th>\n",
       "      <th>SG_UF_RESIDENCIA</th>\n",
       "      <th>NU_IDADE</th>\n",
       "      <th>TP_SEXO</th>\n",
       "      <th>TP_ESTADO_CIVIL</th>\n",
       "      <th>TP_COR_RACA</th>\n",
       "      <th>...</th>\n",
       "      <th>Q017</th>\n",
       "      <th>Q018</th>\n",
       "      <th>Q019</th>\n",
       "      <th>Q020</th>\n",
       "      <th>Q021</th>\n",
       "      <th>Q022</th>\n",
       "      <th>Q023</th>\n",
       "      <th>Q024</th>\n",
       "      <th>Q025</th>\n",
       "      <th>NU_NOTA_TOTAL</th>\n",
       "    </tr>\n",
       "  </thead>\n",
       "  <tbody>\n",
       "    <tr>\n",
       "      <th>0</th>\n",
       "      <td>190001004661</td>\n",
       "      <td>2019</td>\n",
       "      <td>1506138</td>\n",
       "      <td>Redenção</td>\n",
       "      <td>15</td>\n",
       "      <td>PA</td>\n",
       "      <td>17</td>\n",
       "      <td>M</td>\n",
       "      <td>1</td>\n",
       "      <td>3</td>\n",
       "      <td>...</td>\n",
       "      <td>A</td>\n",
       "      <td>A</td>\n",
       "      <td>A</td>\n",
       "      <td>B</td>\n",
       "      <td>A</td>\n",
       "      <td>C</td>\n",
       "      <td>A</td>\n",
       "      <td>B</td>\n",
       "      <td>B</td>\n",
       "      <td>2,288.90</td>\n",
       "    </tr>\n",
       "    <tr>\n",
       "      <th>1</th>\n",
       "      <td>190001004674</td>\n",
       "      <td>2019</td>\n",
       "      <td>1504208</td>\n",
       "      <td>Marabá</td>\n",
       "      <td>15</td>\n",
       "      <td>PA</td>\n",
       "      <td>23</td>\n",
       "      <td>M</td>\n",
       "      <td>1</td>\n",
       "      <td>3</td>\n",
       "      <td>...</td>\n",
       "      <td>A</td>\n",
       "      <td>A</td>\n",
       "      <td>B</td>\n",
       "      <td>A</td>\n",
       "      <td>A</td>\n",
       "      <td>B</td>\n",
       "      <td>A</td>\n",
       "      <td>A</td>\n",
       "      <td>B</td>\n",
       "      <td>1,184.60</td>\n",
       "    </tr>\n",
       "    <tr>\n",
       "      <th>2</th>\n",
       "      <td>190001004722</td>\n",
       "      <td>2019</td>\n",
       "      <td>1501402</td>\n",
       "      <td>Belém</td>\n",
       "      <td>15</td>\n",
       "      <td>PA</td>\n",
       "      <td>35</td>\n",
       "      <td>F</td>\n",
       "      <td>2</td>\n",
       "      <td>1</td>\n",
       "      <td>...</td>\n",
       "      <td>A</td>\n",
       "      <td>A</td>\n",
       "      <td>B</td>\n",
       "      <td>A</td>\n",
       "      <td>B</td>\n",
       "      <td>B</td>\n",
       "      <td>A</td>\n",
       "      <td>A</td>\n",
       "      <td>B</td>\n",
       "      <td>2,350.50</td>\n",
       "    </tr>\n",
       "  </tbody>\n",
       "</table>\n",
       "<p>3 rows × 137 columns</p>\n",
       "</div>"
      ],
      "text/plain": [
       "   NU_INSCRICAO  NU_ANO  CO_MUNICIPIO_RESIDENCIA NO_MUNICIPIO_RESIDENCIA  \\\n",
       "0  190001004661    2019                  1506138                Redenção   \n",
       "1  190001004674    2019                  1504208                  Marabá   \n",
       "2  190001004722    2019                  1501402                   Belém   \n",
       "\n",
       "   CO_UF_RESIDENCIA SG_UF_RESIDENCIA  NU_IDADE TP_SEXO  TP_ESTADO_CIVIL  \\\n",
       "0                15               PA        17       M                1   \n",
       "1                15               PA        23       M                1   \n",
       "2                15               PA        35       F                2   \n",
       "\n",
       "   TP_COR_RACA  ...  Q017  Q018 Q019  Q020 Q021  Q022  Q023  Q024  Q025  \\\n",
       "0            3  ...     A     A    A     B    A     C     A     B     B   \n",
       "1            3  ...     A     A    B     A    A     B     A     A     B   \n",
       "2            1  ...     A     A    B     A    B     B     A     A     B   \n",
       "\n",
       "   NU_NOTA_TOTAL  \n",
       "0       2,288.90  \n",
       "1       1,184.60  \n",
       "2       2,350.50  \n",
       "\n",
       "[3 rows x 137 columns]"
      ]
     },
     "execution_count": 63,
     "metadata": {},
     "output_type": "execute_result"
    }
   ],
   "source": [
    "# Somando as linhas\n",
    "df['NU_NOTA_TOTAL'] = df[provas].sum(axis=1)\n",
    "df.head(3)"
   ]
  },
  {
   "cell_type": "code",
   "execution_count": 64,
   "metadata": {
    "hidden": true
   },
   "outputs": [
    {
     "data": {
      "text/plain": [
       "Text(0.5, 1.0, 'boxplot das notas de total pela renda')"
      ]
     },
     "execution_count": 64,
     "metadata": {},
     "output_type": "execute_result"
    },
    {
     "data": {
      "image/png": "[encoded data removed]",
      "text/plain": [
       "<Figure size 720x576 with 1 Axes>"
      ]
     },
     "metadata": {
      "needs_background": "light"
     },
     "output_type": "display_data"
    }
   ],
   "source": [
    "# Boxplot das notas por renda\n",
    "plt.figure(figsize=(10, 8))\n",
    "sns.boxplot(x='Q006', y = 'NU_NOTA_TOTAL', data = df, order = renda_ordenada)\n",
    "plt.title('boxplot das notas de total pela renda')"
   ]
  },
  {
   "cell_type": "code",
   "execution_count": 65,
   "metadata": {
    "hidden": true,
    "scrolled": true
   },
   "outputs": [
    {
     "data": {
      "text/plain": [
       "<seaborn.axisgrid.FacetGrid at 0x1a1b8af510>"
      ]
     },
     "execution_count": 65,
     "metadata": {},
     "output_type": "execute_result"
    },
    {
     "data": {
      "image/png": "[encoded data removed]",
      "text/plain": [
       "<Figure size 360x360 with 1 Axes>"
      ]
     },
     "metadata": {
      "needs_background": "light"
     },
     "output_type": "display_data"
    }
   ],
   "source": [
    "# Analisando a distribuicao de notas totais\n",
    "sns.displot(df, x='NU_NOTA_TOTAL')"
   ]
  },
  {
   "cell_type": "code",
   "execution_count": 66,
   "metadata": {
    "hidden": true
   },
   "outputs": [
    {
     "data": {
      "text/html": [
       "<div>\n",
       "<style scoped>\n",
       "    .dataframe tbody tr th:only-of-type {\n",
       "        vertical-align: middle;\n",
       "    }\n",
       "\n",
       "    .dataframe tbody tr th {\n",
       "        vertical-align: top;\n",
       "    }\n",
       "\n",
       "    .dataframe thead th {\n",
       "        text-align: right;\n",
       "    }\n",
       "</style>\n",
       "<table border=\"1\" class=\"dataframe\">\n",
       "  <thead>\n",
       "    <tr style=\"text-align: right;\">\n",
       "      <th></th>\n",
       "      <th>NU_NOTA_CN</th>\n",
       "      <th>NU_NOTA_CH</th>\n",
       "      <th>NU_NOTA_MT</th>\n",
       "      <th>NU_NOTA_LC</th>\n",
       "      <th>NU_NOTA_REDACAO</th>\n",
       "      <th>NU_NOTA_TOTAL</th>\n",
       "    </tr>\n",
       "  </thead>\n",
       "  <tbody>\n",
       "    <tr>\n",
       "      <th>10</th>\n",
       "      <td>nan</td>\n",
       "      <td>nan</td>\n",
       "      <td>nan</td>\n",
       "      <td>nan</td>\n",
       "      <td>nan</td>\n",
       "      <td>0.00</td>\n",
       "    </tr>\n",
       "    <tr>\n",
       "      <th>11</th>\n",
       "      <td>nan</td>\n",
       "      <td>nan</td>\n",
       "      <td>nan</td>\n",
       "      <td>nan</td>\n",
       "      <td>nan</td>\n",
       "      <td>0.00</td>\n",
       "    </tr>\n",
       "    <tr>\n",
       "      <th>26</th>\n",
       "      <td>nan</td>\n",
       "      <td>nan</td>\n",
       "      <td>nan</td>\n",
       "      <td>nan</td>\n",
       "      <td>nan</td>\n",
       "      <td>0.00</td>\n",
       "    </tr>\n",
       "    <tr>\n",
       "      <th>38</th>\n",
       "      <td>nan</td>\n",
       "      <td>nan</td>\n",
       "      <td>nan</td>\n",
       "      <td>nan</td>\n",
       "      <td>nan</td>\n",
       "      <td>0.00</td>\n",
       "    </tr>\n",
       "    <tr>\n",
       "      <th>40</th>\n",
       "      <td>nan</td>\n",
       "      <td>nan</td>\n",
       "      <td>nan</td>\n",
       "      <td>nan</td>\n",
       "      <td>nan</td>\n",
       "      <td>0.00</td>\n",
       "    </tr>\n",
       "    <tr>\n",
       "      <th>...</th>\n",
       "      <td>...</td>\n",
       "      <td>...</td>\n",
       "      <td>...</td>\n",
       "      <td>...</td>\n",
       "      <td>...</td>\n",
       "      <td>...</td>\n",
       "    </tr>\n",
       "    <tr>\n",
       "      <th>127351</th>\n",
       "      <td>nan</td>\n",
       "      <td>nan</td>\n",
       "      <td>nan</td>\n",
       "      <td>nan</td>\n",
       "      <td>nan</td>\n",
       "      <td>0.00</td>\n",
       "    </tr>\n",
       "    <tr>\n",
       "      <th>127365</th>\n",
       "      <td>nan</td>\n",
       "      <td>nan</td>\n",
       "      <td>nan</td>\n",
       "      <td>nan</td>\n",
       "      <td>nan</td>\n",
       "      <td>0.00</td>\n",
       "    </tr>\n",
       "    <tr>\n",
       "      <th>127366</th>\n",
       "      <td>nan</td>\n",
       "      <td>nan</td>\n",
       "      <td>nan</td>\n",
       "      <td>nan</td>\n",
       "      <td>nan</td>\n",
       "      <td>0.00</td>\n",
       "    </tr>\n",
       "    <tr>\n",
       "      <th>127368</th>\n",
       "      <td>nan</td>\n",
       "      <td>nan</td>\n",
       "      <td>nan</td>\n",
       "      <td>nan</td>\n",
       "      <td>nan</td>\n",
       "      <td>0.00</td>\n",
       "    </tr>\n",
       "    <tr>\n",
       "      <th>127374</th>\n",
       "      <td>nan</td>\n",
       "      <td>nan</td>\n",
       "      <td>nan</td>\n",
       "      <td>nan</td>\n",
       "      <td>nan</td>\n",
       "      <td>0.00</td>\n",
       "    </tr>\n",
       "  </tbody>\n",
       "</table>\n",
       "<p>29162 rows × 6 columns</p>\n",
       "</div>"
      ],
      "text/plain": [
       "        NU_NOTA_CN  NU_NOTA_CH  NU_NOTA_MT  NU_NOTA_LC  NU_NOTA_REDACAO  \\\n",
       "10             nan         nan         nan         nan              nan   \n",
       "11             nan         nan         nan         nan              nan   \n",
       "26             nan         nan         nan         nan              nan   \n",
       "38             nan         nan         nan         nan              nan   \n",
       "40             nan         nan         nan         nan              nan   \n",
       "...            ...         ...         ...         ...              ...   \n",
       "127351         nan         nan         nan         nan              nan   \n",
       "127365         nan         nan         nan         nan              nan   \n",
       "127366         nan         nan         nan         nan              nan   \n",
       "127368         nan         nan         nan         nan              nan   \n",
       "127374         nan         nan         nan         nan              nan   \n",
       "\n",
       "        NU_NOTA_TOTAL  \n",
       "10               0.00  \n",
       "11               0.00  \n",
       "26               0.00  \n",
       "38               0.00  \n",
       "40               0.00  \n",
       "...               ...  \n",
       "127351           0.00  \n",
       "127365           0.00  \n",
       "127366           0.00  \n",
       "127368           0.00  \n",
       "127374           0.00  \n",
       "\n",
       "[29162 rows x 6 columns]"
      ]
     },
     "execution_count": 66,
     "metadata": {},
     "output_type": "execute_result"
    }
   ],
   "source": [
    "provas.append('NU_NOTA_TOTAL')\n",
    "df[provas].query('NU_NOTA_TOTAL == 0')"
   ]
  },
  {
   "cell_type": "code",
   "execution_count": 67,
   "metadata": {
    "hidden": true
   },
   "outputs": [
    {
     "data": {
      "text/html": [
       "<div>\n",
       "<style scoped>\n",
       "    .dataframe tbody tr th:only-of-type {\n",
       "        vertical-align: middle;\n",
       "    }\n",
       "\n",
       "    .dataframe tbody tr th {\n",
       "        vertical-align: top;\n",
       "    }\n",
       "\n",
       "    .dataframe thead th {\n",
       "        text-align: right;\n",
       "    }\n",
       "</style>\n",
       "<table border=\"1\" class=\"dataframe\">\n",
       "  <thead>\n",
       "    <tr style=\"text-align: right;\">\n",
       "      <th></th>\n",
       "      <th>NU_INSCRICAO</th>\n",
       "      <th>NU_ANO</th>\n",
       "      <th>CO_MUNICIPIO_RESIDENCIA</th>\n",
       "      <th>NO_MUNICIPIO_RESIDENCIA</th>\n",
       "      <th>CO_UF_RESIDENCIA</th>\n",
       "      <th>SG_UF_RESIDENCIA</th>\n",
       "      <th>NU_IDADE</th>\n",
       "      <th>TP_SEXO</th>\n",
       "      <th>TP_ESTADO_CIVIL</th>\n",
       "      <th>TP_COR_RACA</th>\n",
       "      <th>...</th>\n",
       "      <th>Q017</th>\n",
       "      <th>Q018</th>\n",
       "      <th>Q019</th>\n",
       "      <th>Q020</th>\n",
       "      <th>Q021</th>\n",
       "      <th>Q022</th>\n",
       "      <th>Q023</th>\n",
       "      <th>Q024</th>\n",
       "      <th>Q025</th>\n",
       "      <th>NU_NOTA_TOTAL</th>\n",
       "    </tr>\n",
       "  </thead>\n",
       "  <tbody>\n",
       "    <tr>\n",
       "      <th>0</th>\n",
       "      <td>190001004661</td>\n",
       "      <td>2019</td>\n",
       "      <td>1506138</td>\n",
       "      <td>Redenção</td>\n",
       "      <td>15</td>\n",
       "      <td>PA</td>\n",
       "      <td>17</td>\n",
       "      <td>M</td>\n",
       "      <td>1</td>\n",
       "      <td>3</td>\n",
       "      <td>...</td>\n",
       "      <td>A</td>\n",
       "      <td>A</td>\n",
       "      <td>A</td>\n",
       "      <td>B</td>\n",
       "      <td>A</td>\n",
       "      <td>C</td>\n",
       "      <td>A</td>\n",
       "      <td>B</td>\n",
       "      <td>B</td>\n",
       "      <td>2,288.90</td>\n",
       "    </tr>\n",
       "    <tr>\n",
       "      <th>1</th>\n",
       "      <td>190001004674</td>\n",
       "      <td>2019</td>\n",
       "      <td>1504208</td>\n",
       "      <td>Marabá</td>\n",
       "      <td>15</td>\n",
       "      <td>PA</td>\n",
       "      <td>23</td>\n",
       "      <td>M</td>\n",
       "      <td>1</td>\n",
       "      <td>3</td>\n",
       "      <td>...</td>\n",
       "      <td>A</td>\n",
       "      <td>A</td>\n",
       "      <td>B</td>\n",
       "      <td>A</td>\n",
       "      <td>A</td>\n",
       "      <td>B</td>\n",
       "      <td>A</td>\n",
       "      <td>A</td>\n",
       "      <td>B</td>\n",
       "      <td>1,184.60</td>\n",
       "    </tr>\n",
       "    <tr>\n",
       "      <th>2</th>\n",
       "      <td>190001004722</td>\n",
       "      <td>2019</td>\n",
       "      <td>1501402</td>\n",
       "      <td>Belém</td>\n",
       "      <td>15</td>\n",
       "      <td>PA</td>\n",
       "      <td>35</td>\n",
       "      <td>F</td>\n",
       "      <td>2</td>\n",
       "      <td>1</td>\n",
       "      <td>...</td>\n",
       "      <td>A</td>\n",
       "      <td>A</td>\n",
       "      <td>B</td>\n",
       "      <td>A</td>\n",
       "      <td>B</td>\n",
       "      <td>B</td>\n",
       "      <td>A</td>\n",
       "      <td>A</td>\n",
       "      <td>B</td>\n",
       "      <td>2,350.50</td>\n",
       "    </tr>\n",
       "    <tr>\n",
       "      <th>3</th>\n",
       "      <td>190001004735</td>\n",
       "      <td>2019</td>\n",
       "      <td>1507300</td>\n",
       "      <td>São Félix do Xingu</td>\n",
       "      <td>15</td>\n",
       "      <td>PA</td>\n",
       "      <td>23</td>\n",
       "      <td>F</td>\n",
       "      <td>1</td>\n",
       "      <td>3</td>\n",
       "      <td>...</td>\n",
       "      <td>A</td>\n",
       "      <td>A</td>\n",
       "      <td>B</td>\n",
       "      <td>A</td>\n",
       "      <td>A</td>\n",
       "      <td>B</td>\n",
       "      <td>A</td>\n",
       "      <td>A</td>\n",
       "      <td>B</td>\n",
       "      <td>2,555.70</td>\n",
       "    </tr>\n",
       "    <tr>\n",
       "      <th>4</th>\n",
       "      <td>190001004776</td>\n",
       "      <td>2019</td>\n",
       "      <td>1500800</td>\n",
       "      <td>Ananindeua</td>\n",
       "      <td>15</td>\n",
       "      <td>PA</td>\n",
       "      <td>16</td>\n",
       "      <td>F</td>\n",
       "      <td>1</td>\n",
       "      <td>3</td>\n",
       "      <td>...</td>\n",
       "      <td>A</td>\n",
       "      <td>A</td>\n",
       "      <td>B</td>\n",
       "      <td>A</td>\n",
       "      <td>A</td>\n",
       "      <td>D</td>\n",
       "      <td>A</td>\n",
       "      <td>A</td>\n",
       "      <td>B</td>\n",
       "      <td>2,803.50</td>\n",
       "    </tr>\n",
       "  </tbody>\n",
       "</table>\n",
       "<p>5 rows × 137 columns</p>\n",
       "</div>"
      ],
      "text/plain": [
       "   NU_INSCRICAO  NU_ANO  CO_MUNICIPIO_RESIDENCIA NO_MUNICIPIO_RESIDENCIA  \\\n",
       "0  190001004661    2019                  1506138                Redenção   \n",
       "1  190001004674    2019                  1504208                  Marabá   \n",
       "2  190001004722    2019                  1501402                   Belém   \n",
       "3  190001004735    2019                  1507300      São Félix do Xingu   \n",
       "4  190001004776    2019                  1500800              Ananindeua   \n",
       "\n",
       "   CO_UF_RESIDENCIA SG_UF_RESIDENCIA  NU_IDADE TP_SEXO  TP_ESTADO_CIVIL  \\\n",
       "0                15               PA        17       M                1   \n",
       "1                15               PA        23       M                1   \n",
       "2                15               PA        35       F                2   \n",
       "3                15               PA        23       F                1   \n",
       "4                15               PA        16       F                1   \n",
       "\n",
       "   TP_COR_RACA  ...  Q017  Q018 Q019  Q020 Q021  Q022  Q023  Q024  Q025  \\\n",
       "0            3  ...     A     A    A     B    A     C     A     B     B   \n",
       "1            3  ...     A     A    B     A    A     B     A     A     B   \n",
       "2            1  ...     A     A    B     A    B     B     A     A     B   \n",
       "3            3  ...     A     A    B     A    A     B     A     A     B   \n",
       "4            3  ...     A     A    B     A    A     D     A     A     B   \n",
       "\n",
       "   NU_NOTA_TOTAL  \n",
       "0       2,288.90  \n",
       "1       1,184.60  \n",
       "2       2,350.50  \n",
       "3       2,555.70  \n",
       "4       2,803.50  \n",
       "\n",
       "[5 rows x 137 columns]"
      ]
     },
     "execution_count": 67,
     "metadata": {},
     "output_type": "execute_result"
    }
   ],
   "source": [
    "# Criando variavel para excluir os alunos com nota <> de 0\n",
    "dados_sem_nota_zero = df.query('NU_NOTA_TOTAL != 0')\n",
    "dados_sem_nota_zero.head()"
   ]
  },
  {
   "cell_type": "code",
   "execution_count": 68,
   "metadata": {
    "hidden": true
   },
   "outputs": [
    {
     "data": {
      "text/plain": [
       "<matplotlib.axes._subplots.AxesSubplot at 0x1a1fe77790>"
      ]
     },
     "execution_count": 68,
     "metadata": {},
     "output_type": "execute_result"
    },
    {
     "data": {
      "image/png": "[encoded data removed]",
      "text/plain": [
       "<Figure size 720x432 with 1 Axes>"
      ]
     },
     "metadata": {
      "needs_background": "light"
     },
     "output_type": "display_data"
    }
   ],
   "source": [
    "plt.figure(figsize=(10,6))\n",
    "sns.boxplot(x='Q006', y='NU_NOTA_TOTAL', data = dados_sem_nota_zero, order = renda_ordenada)"
   ]
  },
  {
   "cell_type": "code",
   "execution_count": 69,
   "metadata": {
    "hidden": true
   },
   "outputs": [
    {
     "data": {
      "text/plain": [
       "<matplotlib.axes._subplots.AxesSubplot at 0x1a1dac7750>"
      ]
     },
     "execution_count": 69,
     "metadata": {},
     "output_type": "execute_result"
    },
    {
     "data": {
      "image/png": "[encoded data removed]",
      "text/plain": [
       "<Figure size 1080x432 with 1 Axes>"
      ]
     },
     "metadata": {
      "needs_background": "light"
     },
     "output_type": "display_data"
    }
   ],
   "source": [
    "plt.figure(figsize=(15,6))\n",
    "sns.boxplot(x='Q006', y='NU_NOTA_TOTAL', data = dados_sem_nota_zero, hue = 'IN_TREINEIRO',order = renda_ordenada)"
   ]
  },
  {
   "cell_type": "markdown",
   "metadata": {},
   "source": [
    "## DESAFIOS AULA 02 (EM ANDAMENTO)"
   ]
  },
  {
   "cell_type": "raw",
   "metadata": {},
   "source": [
    "1) PEGAR DADOS COMPLETOS DOS ALUNOS 13 E 14 ANOS\n",
    "\n",
    "2) CRIAR UMA FUNÇÃO PARA PLOTAR O BOXPLOT\n",
    "\n",
    "3) VERIFICAR SE QUEM ZEROU A PROVA FOI ELIMINIADO OU NAO ESTAVA PRESENTE\n",
    "\n",
    "4) QUEM É ELIMINADO TIRA ZERO OU SERA NaN (NOT A NUMBER)\n",
    "\n",
    "6) VERIFICAR A PROPORÇÃO DOS PARTICIPANTES DE RENDAS MAIS ALTAS E MAIS BAIXAS COMO TREINEIRO E NÃO TREINEIRO\n",
    "\n",
    "7) FAZER O MESMO BOXPLOT OLHANDO PARA A QUESTÃO 25 (TEM INTERNET OU NÃO)"
   ]
  },
  {
   "cell_type": "markdown",
   "metadata": {},
   "source": [
    "#### PEGAR DADOS COMPLETOS DOS ALUNOS 13 E 14 ANOS"
   ]
  },
  {
   "cell_type": "code",
   "execution_count": 70,
   "metadata": {},
   "outputs": [],
   "source": [
    "#conda install -c conda-forge vaex"
   ]
  },
  {
   "cell_type": "code",
   "execution_count": 71,
   "metadata": {},
   "outputs": [],
   "source": [
    "df2 = pd.read_csv('MICRODADOS_ENEM_2019.csv', encoding = \"ISO-8859-1\", sep = ';')"
   ]
  },
  {
   "cell_type": "code",
   "execution_count": 72,
   "metadata": {},
   "outputs": [
    {
     "data": {
      "text/plain": [
       "(5095270, 136)"
      ]
     },
     "execution_count": 72,
     "metadata": {},
     "output_type": "execute_result"
    }
   ],
   "source": [
    "df2.shape"
   ]
  },
  {
   "cell_type": "code",
   "execution_count": 74,
   "metadata": {},
   "outputs": [
    {
     "data": {
      "text/plain": [
       "14    5267\n",
       "13     266\n",
       "Name: NU_IDADE, dtype: int64"
      ]
     },
     "execution_count": 74,
     "metadata": {},
     "output_type": "execute_result"
    }
   ],
   "source": [
    "alunos_13_14_anos = df2[(df2['NU_IDADE'] > 12) & (df2['NU_IDADE'] < 15)]\n",
    "alunos_13_14_anos['NU_IDADE'].value_counts()"
   ]
  },
  {
   "cell_type": "markdown",
   "metadata": {},
   "source": [
    "#### CRIAR UMA FUNÇÃO PARA PLOTAR O BOXPLOT"
   ]
  },
  {
   "cell_type": "code",
   "execution_count": 75,
   "metadata": {},
   "outputs": [],
   "source": [
    "def plotar_boxplot(titulo, labelx, labely, x, y, dataset):\n",
    "    ax = sns.boxplot(x=x, y=y, data=dataset)\n",
    "    ax.set_title(titulo, fontsize = 14)\n",
    "    ax.set_xlabel(labelx, fontsize = 10)\n",
    "    ax.set_ylabel(labely, fontsize = 10)\n",
    "    ax = ax"
   ]
  },
  {
   "cell_type": "code",
   "execution_count": 76,
   "metadata": {},
   "outputs": [
    {
     "data": {
      "image/png": "[encoded data removed]",
      "text/plain": [
       "<Figure size 432x288 with 1 Axes>"
      ]
     },
     "metadata": {
      "needs_background": "light"
     },
     "output_type": "display_data"
    }
   ],
   "source": [
    "plotar_boxplot('DESAFIO2', 'IDIOMA', 'NOTA', 'TP_LINGUA', 'NU_NOTA_LC', df)"
   ]
  },
  {
   "cell_type": "markdown",
   "metadata": {},
   "source": [
    "#### VERIFICAR SE QUEM ZEROU A PROVA FOI ELIMINIADO OU NAO ESTAVA PRESENTE"
   ]
  },
  {
   "cell_type": "code",
   "execution_count": 88,
   "metadata": {},
   "outputs": [
    {
     "data": {
      "text/html": [
       "<div>\n",
       "<style scoped>\n",
       "    .dataframe tbody tr th:only-of-type {\n",
       "        vertical-align: middle;\n",
       "    }\n",
       "\n",
       "    .dataframe tbody tr th {\n",
       "        vertical-align: top;\n",
       "    }\n",
       "\n",
       "    .dataframe thead th {\n",
       "        text-align: right;\n",
       "    }\n",
       "</style>\n",
       "<table border=\"1\" class=\"dataframe\">\n",
       "  <thead>\n",
       "    <tr style=\"text-align: right;\">\n",
       "      <th></th>\n",
       "      <th>NU_INSCRICAO</th>\n",
       "      <th>NU_ANO</th>\n",
       "      <th>CO_MUNICIPIO_RESIDENCIA</th>\n",
       "      <th>NO_MUNICIPIO_RESIDENCIA</th>\n",
       "      <th>CO_UF_RESIDENCIA</th>\n",
       "      <th>SG_UF_RESIDENCIA</th>\n",
       "      <th>NU_IDADE</th>\n",
       "      <th>TP_SEXO</th>\n",
       "      <th>TP_ESTADO_CIVIL</th>\n",
       "      <th>TP_COR_RACA</th>\n",
       "      <th>...</th>\n",
       "      <th>Q018</th>\n",
       "      <th>Q019</th>\n",
       "      <th>Q020</th>\n",
       "      <th>Q021</th>\n",
       "      <th>Q022</th>\n",
       "      <th>Q023</th>\n",
       "      <th>Q024</th>\n",
       "      <th>Q025</th>\n",
       "      <th>NU_NOTA_TOTAL</th>\n",
       "      <th>qt_presenca</th>\n",
       "    </tr>\n",
       "  </thead>\n",
       "  <tbody>\n",
       "    <tr>\n",
       "      <th>0</th>\n",
       "      <td>190001004661</td>\n",
       "      <td>2019</td>\n",
       "      <td>1506138</td>\n",
       "      <td>Redenção</td>\n",
       "      <td>15</td>\n",
       "      <td>PA</td>\n",
       "      <td>17</td>\n",
       "      <td>M</td>\n",
       "      <td>1</td>\n",
       "      <td>3</td>\n",
       "      <td>...</td>\n",
       "      <td>A</td>\n",
       "      <td>A</td>\n",
       "      <td>B</td>\n",
       "      <td>A</td>\n",
       "      <td>C</td>\n",
       "      <td>A</td>\n",
       "      <td>B</td>\n",
       "      <td>B</td>\n",
       "      <td>2,288.90</td>\n",
       "      <td>4</td>\n",
       "    </tr>\n",
       "    <tr>\n",
       "      <th>1</th>\n",
       "      <td>190001004674</td>\n",
       "      <td>2019</td>\n",
       "      <td>1504208</td>\n",
       "      <td>Marabá</td>\n",
       "      <td>15</td>\n",
       "      <td>PA</td>\n",
       "      <td>23</td>\n",
       "      <td>M</td>\n",
       "      <td>1</td>\n",
       "      <td>3</td>\n",
       "      <td>...</td>\n",
       "      <td>A</td>\n",
       "      <td>B</td>\n",
       "      <td>A</td>\n",
       "      <td>A</td>\n",
       "      <td>B</td>\n",
       "      <td>A</td>\n",
       "      <td>A</td>\n",
       "      <td>B</td>\n",
       "      <td>1,184.60</td>\n",
       "      <td>2</td>\n",
       "    </tr>\n",
       "  </tbody>\n",
       "</table>\n",
       "<p>2 rows × 138 columns</p>\n",
       "</div>"
      ],
      "text/plain": [
       "   NU_INSCRICAO  NU_ANO  CO_MUNICIPIO_RESIDENCIA NO_MUNICIPIO_RESIDENCIA  \\\n",
       "0  190001004661    2019                  1506138                Redenção   \n",
       "1  190001004674    2019                  1504208                  Marabá   \n",
       "\n",
       "   CO_UF_RESIDENCIA SG_UF_RESIDENCIA  NU_IDADE TP_SEXO  TP_ESTADO_CIVIL  \\\n",
       "0                15               PA        17       M                1   \n",
       "1                15               PA        23       M                1   \n",
       "\n",
       "   TP_COR_RACA  ...  Q018  Q019 Q020  Q021 Q022  Q023  Q024  Q025  \\\n",
       "0            3  ...     A     A    B     A    C     A     B     B   \n",
       "1            3  ...     A     B    A     A    B     A     A     B   \n",
       "\n",
       "   NU_NOTA_TOTAL  qt_presenca  \n",
       "0       2,288.90            4  \n",
       "1       1,184.60            2  \n",
       "\n",
       "[2 rows x 138 columns]"
      ]
     },
     "execution_count": 88,
     "metadata": {},
     "output_type": "execute_result"
    }
   ],
   "source": [
    "notas_provas = df[['NU_NOTA_CN', 'NU_NOTA_CH', 'NU_NOTA_LC', 'NU_NOTA_MT']]\n",
    "df['qt_presenca'] = notas_provas.count(axis=1)\n",
    "df.head(2)"
   ]
  },
  {
   "cell_type": "code",
   "execution_count": 89,
   "metadata": {},
   "outputs": [
    {
     "data": {
      "text/plain": [
       "NU_NOTA_CN    92758\n",
       "NU_NOTA_CH    98043\n",
       "NU_NOTA_LC    98043\n",
       "NU_NOTA_MT    92758\n",
       "dtype: int64"
      ]
     },
     "execution_count": 89,
     "metadata": {},
     "output_type": "execute_result"
    }
   ],
   "source": [
    "## Contando quantos dados há em cada colunas\n",
    "\n",
    "notas_provas.count()"
   ]
  },
  {
   "cell_type": "code",
   "execution_count": 93,
   "metadata": {},
   "outputs": [
    {
     "data": {
      "text/html": [
       "<div>\n",
       "<style scoped>\n",
       "    .dataframe tbody tr th:only-of-type {\n",
       "        vertical-align: middle;\n",
       "    }\n",
       "\n",
       "    .dataframe tbody tr th {\n",
       "        vertical-align: top;\n",
       "    }\n",
       "\n",
       "    .dataframe thead th {\n",
       "        text-align: right;\n",
       "    }\n",
       "</style>\n",
       "<table border=\"1\" class=\"dataframe\">\n",
       "  <thead>\n",
       "    <tr style=\"text-align: right;\">\n",
       "      <th></th>\n",
       "      <th>TP_PRESENCA_CN</th>\n",
       "      <th>TP_PRESENCA_CH</th>\n",
       "      <th>TP_PRESENCA_LC</th>\n",
       "      <th>TP_PRESENCA_MT</th>\n",
       "    </tr>\n",
       "  </thead>\n",
       "  <tbody>\n",
       "    <tr>\n",
       "      <th>0</th>\n",
       "      <td>1</td>\n",
       "      <td>1</td>\n",
       "      <td>1</td>\n",
       "      <td>1</td>\n",
       "    </tr>\n",
       "    <tr>\n",
       "      <th>1</th>\n",
       "      <td>0</td>\n",
       "      <td>1</td>\n",
       "      <td>1</td>\n",
       "      <td>0</td>\n",
       "    </tr>\n",
       "    <tr>\n",
       "      <th>2</th>\n",
       "      <td>1</td>\n",
       "      <td>1</td>\n",
       "      <td>1</td>\n",
       "      <td>1</td>\n",
       "    </tr>\n",
       "    <tr>\n",
       "      <th>3</th>\n",
       "      <td>1</td>\n",
       "      <td>1</td>\n",
       "      <td>1</td>\n",
       "      <td>1</td>\n",
       "    </tr>\n",
       "    <tr>\n",
       "      <th>4</th>\n",
       "      <td>1</td>\n",
       "      <td>1</td>\n",
       "      <td>1</td>\n",
       "      <td>1</td>\n",
       "    </tr>\n",
       "    <tr>\n",
       "      <th>...</th>\n",
       "      <td>...</td>\n",
       "      <td>...</td>\n",
       "      <td>...</td>\n",
       "      <td>...</td>\n",
       "    </tr>\n",
       "    <tr>\n",
       "      <th>127375</th>\n",
       "      <td>1</td>\n",
       "      <td>1</td>\n",
       "      <td>1</td>\n",
       "      <td>1</td>\n",
       "    </tr>\n",
       "    <tr>\n",
       "      <th>127376</th>\n",
       "      <td>1</td>\n",
       "      <td>1</td>\n",
       "      <td>1</td>\n",
       "      <td>1</td>\n",
       "    </tr>\n",
       "    <tr>\n",
       "      <th>127377</th>\n",
       "      <td>0</td>\n",
       "      <td>1</td>\n",
       "      <td>1</td>\n",
       "      <td>0</td>\n",
       "    </tr>\n",
       "    <tr>\n",
       "      <th>127378</th>\n",
       "      <td>1</td>\n",
       "      <td>1</td>\n",
       "      <td>1</td>\n",
       "      <td>1</td>\n",
       "    </tr>\n",
       "    <tr>\n",
       "      <th>127379</th>\n",
       "      <td>1</td>\n",
       "      <td>1</td>\n",
       "      <td>1</td>\n",
       "      <td>1</td>\n",
       "    </tr>\n",
       "  </tbody>\n",
       "</table>\n",
       "<p>127380 rows × 4 columns</p>\n",
       "</div>"
      ],
      "text/plain": [
       "        TP_PRESENCA_CN  TP_PRESENCA_CH  TP_PRESENCA_LC  TP_PRESENCA_MT\n",
       "0                    1               1               1               1\n",
       "1                    0               1               1               0\n",
       "2                    1               1               1               1\n",
       "3                    1               1               1               1\n",
       "4                    1               1               1               1\n",
       "...                ...             ...             ...             ...\n",
       "127375               1               1               1               1\n",
       "127376               1               1               1               1\n",
       "127377               0               1               1               0\n",
       "127378               1               1               1               1\n",
       "127379               1               1               1               1\n",
       "\n",
       "[127380 rows x 4 columns]"
      ]
     },
     "execution_count": 93,
     "metadata": {},
     "output_type": "execute_result"
    }
   ],
   "source": [
    "presenca_provas =['TP_PRESENCA_CN', 'TP_PRESENCA_CH', 'TP_PRESENCA_LC', 'TP_PRESENCA_MT']\n",
    "df[presenca_provas]"
   ]
  },
  {
   "cell_type": "code",
   "execution_count": 99,
   "metadata": {},
   "outputs": [],
   "source": [
    "cn = df['TP_PRESENCA_CN'].value_counts()\n",
    "ch = df['TP_PRESENCA_CH'].value_counts()"
   ]
  },
  {
   "cell_type": "code",
   "execution_count": null,
   "metadata": {},
   "outputs": [],
   "source": []
  },
  {
   "cell_type": "raw",
   "metadata": {},
   "source": [
    "PROVAS\n",
    "\n",
    "TP_PRESENCA_CN\n",
    "TP_PRESENCA_CH\n",
    "TP_PRESENCA_LC\n",
    "TP_PRESENCA_MT\n",
    "\n",
    "0 - Faltou à prova\n",
    "1 - Presente na prova\n",
    "2 - Eliminado na prova\n",
    "\n",
    "\n",
    "*********\n",
    "\n",
    "REDACAO\n",
    "TP_STATUS_REDACAO\n",
    "\n",
    "1 - Sem problemas\n",
    "2 - Anulada\n",
    "3 - Cópia Texto Motivador\n",
    "4 - Em Branco\n",
    "6 - Fuga ao tema\n",
    "7 - Não atendimento ao tipo textual\n",
    "8 - Texto insuficiente\n",
    "9 - Parte desconectada\n",
    "\n",
    "\n"
   ]
  },
  {
   "cell_type": "code",
   "execution_count": null,
   "metadata": {},
   "outputs": [],
   "source": []
  }
 ],
 "metadata": {
  "kernelspec": {
   "display_name": "Python 3",
   "language": "python",
   "name": "python3"
  },
  "language_info": {
   "codemirror_mode": {
    "name": "ipython",
    "version": 3
   },
   "file_extension": ".py",
   "mimetype": "text/x-python",
   "name": "python",
   "nbconvert_exporter": "python",
   "pygments_lexer": "ipython3",
   "version": "3.7.6"
  },
  "toc": {
   "base_numbering": 1,
   "nav_menu": {},
   "number_sections": true,
   "sideBar": true,
   "skip_h1_title": false,
   "title_cell": "Table of Contents",
   "title_sidebar": "Contents",
   "toc_cell": false,
   "toc_position": {},
   "toc_section_display": true,
   "toc_window_display": false
  }
 },
 "nbformat": 4,
 "nbformat_minor": 4
}
